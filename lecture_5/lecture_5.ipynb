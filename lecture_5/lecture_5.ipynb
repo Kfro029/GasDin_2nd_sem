{
 "cells": [
  {
   "cell_type": "markdown",
   "metadata": {},
   "source": [
    "# Лекция №5"
   ]
  },
  {
   "cell_type": "markdown",
   "metadata": {},
   "source": [
    "## На прошлой лекции"
   ]
  },
  {
   "cell_type": "markdown",
   "metadata": {},
   "source": [
    "[Процесс дискретизации](#discr)\n",
    "\n",
    "[Метод контрольного объема (Finite Volume Method)](#FVM)\n",
    "\n",
    "[Производная по времени](#ddt)\n",
    "\n",
    "[Источник](#source)\n",
    "\n",
    "[Операторы fvm и fvc в OpenFOAM](#fvof)"
   ]
  },
  {
   "cell_type": "markdown",
   "metadata": {},
   "source": [
    "## План\n",
    "1. [Диффузия](#lap)\n",
    "2. [Интерполяция на грани](#inter_face)\n",
    "3. [Качество сетки](#mesh_quality)\n",
    "4. [Градиент на грани](#face_grad)\n",
    "5. [OpenFOAM laplacian](#oflaplacian)\n",
    "6. [СЛАУ](#slau)\n",
    "7. [Заключение](#finish)"
   ]
  },
  {
   "cell_type": "code",
   "execution_count": null,
   "metadata": {},
   "outputs": [],
   "source": [
    "#!cat $WM_PROJECT_DIR/applications/solvers/basic/laplacianFoam/laplacianFoam.C"
   ]
  },
  {
   "cell_type": "markdown",
   "metadata": {},
   "source": [
    "```c++\n",
    "/*---------------------------------------------------------------------------*\\\n",
    "  =========                 |\n",
    "  \\\\      /  F ield         | OpenFOAM: The Open Source CFD Toolbox\n",
    "   \\\\    /   O peration     |\n",
    "    \\\\  /    A nd           | www.openfoam.com\n",
    "     \\\\/     M anipulation  |\n",
    "-------------------------------------------------------------------------------\n",
    "    Copyright (C) 2011-2017 OpenFOAM Foundation\n",
    "    Copyright (C) 2019 OpenCFD Ltd.\n",
    "-------------------------------------------------------------------------------\n",
    "License\n",
    "    This file is part of OpenFOAM.\n",
    "\n",
    "    OpenFOAM is free software: you can redistribute it and/or modify it\n",
    "    under the terms of the GNU General Public License as published by\n",
    "    the Free Software Foundation, either version 3 of the License, or\n",
    "    (at your option) any later version.\n",
    "\n",
    "    OpenFOAM is distributed in the hope that it will be useful, but WITHOUT\n",
    "    ANY WARRANTY; without even the implied warranty of MERCHANTABILITY or\n",
    "    FITNESS FOR A PARTICULAR PURPOSE.  See the GNU General Public License\n",
    "    for more details.\n",
    "\n",
    "    You should have received a copy of the GNU General Public License\n",
    "    along with OpenFOAM.  If not, see <http://www.gnu.org/licenses/>.\n",
    "\n",
    "Application\n",
    "    laplacianFoam\n",
    "\n",
    "Group\n",
    "    grpBasicSolvers\n",
    "\n",
    "Description\n",
    "    Laplace equation solver for a scalar quantity.\n",
    "\n",
    "    \\heading Solver details\n",
    "    The solver is applicable to, e.g. for thermal diffusion in a solid.  The\n",
    "    equation is given by:\n",
    "\n",
    "    \\f[\n",
    "        \\ddt{T}  = \\div \\left( D_T \\grad T \\right)\n",
    "    \\f]\n",
    "\n",
    "    Where:\n",
    "    \\vartable\n",
    "        T     | Scalar field which is solved for, e.g. temperature\n",
    "        D_T   | Diffusion coefficient\n",
    "    \\endvartable\n",
    "\n",
    "    \\heading Required fields\n",
    "    \\plaintable\n",
    "        T     | Scalar field which is solved for, e.g. temperature\n",
    "    \\endplaintable\n",
    "\n",
    "\\*---------------------------------------------------------------------------*/\n",
    "\n",
    "#include \"fvCFD.H\"\n",
    "#include \"fvOptions.H\"\n",
    "#include \"simpleControl.H\"\n",
    "\n",
    "// * * * * * * * * * * * * * * * * * * * * * * * * * * * * * * * * * * * * * //\n",
    "\n",
    "int main(int argc, char *argv[])\n",
    "{\n",
    "    argList::addNote\n",
    "    (\n",
    "        \"Laplace equation solver for a scalar quantity.\"\n",
    "    );\n",
    "\n",
    "    #include \"postProcess.H\"\n",
    "\n",
    "    #include \"addCheckCaseOptions.H\"\n",
    "    #include \"setRootCaseLists.H\"\n",
    "    #include \"createTime.H\"\n",
    "    #include \"createMesh.H\"\n",
    "\n",
    "    simpleControl simple(mesh);\n",
    "\n",
    "    #include \"createFields.H\"\n",
    "\n",
    "    // * * * * * * * * * * * * * * * * * * * * * * * * * * * * * * * * * * * //\n",
    "\n",
    "    Info<< \"\\nCalculating temperature distribution\\n\" << endl;\n",
    "\n",
    "    while (simple.loop())\n",
    "    {\n",
    "        Info<< \"Time = \" << runTime.timeName() << nl << endl;\n",
    "\n",
    "        while (simple.correctNonOrthogonal())\n",
    "        {\n",
    "            fvScalarMatrix TEqn\n",
    "            (\n",
    "                fvm::ddt(T) - fvm::laplacian(DT, T)\n",
    "             ==\n",
    "                fvOptions(T)\n",
    "            );\n",
    "\n",
    "            fvOptions.constrain(TEqn);\n",
    "            TEqn.solve();\n",
    "            fvOptions.correct(T);\n",
    "        }\n",
    "\n",
    "        #include \"write.H\"\n",
    "\n",
    "        runTime.printExecutionTime(Info);\n",
    "    }\n",
    "\n",
    "    Info<< \"End\\n\" << endl;\n",
    "\n",
    "    return 0;\n",
    "}\n",
    "\n",
    "\n",
    "// ************************************************************************* //\n",
    "```"
   ]
  },
  {
   "cell_type": "markdown",
   "metadata": {},
   "source": [
    "## Метод контрольного объема (Finite Volume Method) <a name=\"FVM\"></a>"
   ]
  },
  {
   "cell_type": "markdown",
   "metadata": {},
   "source": [
    "<img src=\"img/finite_volume.png\" width=\"1000\">"
   ]
  },
  {
   "cell_type": "markdown",
   "metadata": {},
   "source": [
    "Уравнение переноса в интегральной форме:\n",
    "\n",
    "$$\n",
    "\\int_V {\\partial{\\rho \\phi}\\over {\\partial t}} dV + \\int_V \\nabla \\cdot \\left(\\rho \\phi \\vec{U} \\right) dV = \\int_V \\nabla \\cdot \\left(\\Gamma \\nabla \\phi \\right) dV + \\int_V S_\\phi dV\n",
    "$$\n",
    "\n",
    "$dV$ - элементарный объем (ячейка сетки) \"картинка ячейки\"\n",
    "\n",
    "$\\phi$ - объемное поле (volScalarField) ($\\rho,\\rho U,\\rho E, T$)\n",
    "\n",
    "$\\vec U$ - объемное поле скорости\n",
    "\n",
    "$\\rho$ - объемное поле плотности\n",
    "\n",
    "$\\Gamma$ - объемное поле коэффициента диффузии\n",
    "\n",
    "$S_\\phi$ - объемное поле источника"
   ]
  },
  {
   "cell_type": "markdown",
   "metadata": {},
   "source": [
    "<img src=\"img/cell.png\" width=\"300\">"
   ]
  },
  {
   "cell_type": "markdown",
   "metadata": {},
   "source": [
    "[FVM wolfdynamics](../books/wd_fvm.pdf) p.12\n",
    "\n",
    "[ProgrammerGuide](../books/OFpg.pdf) p.25\n",
    "\n",
    "<img src=\"img/ddt.jpg\" height=\"300\">\n",
    "\n",
    "Производная по времени:\n",
    "\n",
    "$$\\int_V {\\partial{\\rho \\phi}\\over {\\partial t}} dV \\approx ({\\partial{\\rho \\phi}\\over {\\partial t}})_P V_p$$\n",
    "\n",
    "<img src=\"img/source_beer.jpg\" height=\"300\">\n",
    "\n",
    "Источник:\n",
    "$$\\int_V S_\\phi dV \\approx S_{\\phi P} V_P$$\n",
    "\n",
    "Источник и производная по времени: только объемные поля (volScalarField), нет связи с соседними ячейками\n",
    "\n",
    "Теорема Остроградского-Гаусса:\n",
    "\n",
    "$$\\int_V \\left( \\nabla \\cdot \\vec u \\right) dV = \\oint_S \\left( \\vec{n} \\cdot \\vec u \\right) dS \\approx\n",
    "\\sum\\limits_{face} \\left( \\vec{n} \\cdot \\vec u \\right)_f S_f\n",
    "$$\n",
    "\n",
    "Конвекция:\n",
    "\n",
    "$$\\int_V \\nabla \\cdot \\left(\\rho \\phi \\vec{U} \\right) dV \\approx\n",
    "\\sum\\limits_{face} \\left(\\rho \\phi \\vec{n} \\cdot \\vec U \\right)_f S_f$$\n",
    "\n",
    "Диффузия:\n",
    "\n",
    "$$\\int_V \\nabla \\cdot \\left(\\Gamma \\nabla \\phi \\right) dV \\approx\n",
    "\\sum\\limits_{face} \\left(\\Gamma \\nabla \\phi  \\cdot \\vec{n} \\right)_f S_f$$\n",
    "\n",
    "Конвекция и диффузия: поля на гранях (surfaceScalarField), связь с соседними ячейками"
   ]
  },
  {
   "cell_type": "markdown",
   "metadata": {},
   "source": [
    "## Диффузия <a name=\"lap\"></a>"
   ]
  },
  {
   "cell_type": "markdown",
   "metadata": {},
   "source": [
    "<img src=\"img/laplace_stakan.jpeg\" width=\"300\">\n",
    "\n",
    "Переливание от большего к меньшему!"
   ]
  },
  {
   "cell_type": "markdown",
   "metadata": {},
   "source": [
    "$$\\int_V \\nabla \\cdot \\left(\\Gamma \\nabla \\phi \\right) dV = \n",
    "\\oint_S \\left(\\Gamma \\nabla \\phi  \\cdot \\vec{n} \\right) dS \\approx\n",
    "\\sum\\limits_{face} \\left(\\Gamma \\nabla \\phi  \\cdot \\vec{n} \\right)_f S_f$$\n",
    "\n",
    "поля на гранях (surfaceScalarField)"
   ]
  },
  {
   "cell_type": "markdown",
   "metadata": {},
   "source": [
    "[OpenFOAM laplacian](https://www.openfoam.com/documentation/guides/latest/doc/guide-schemes-laplacian.html)\n",
    "\n",
    "[ProgrammerGuide](../books/OFpg.pdf) p.36\n",
    "\n",
    "[UserGuide](../books/OFug.pdf) p.120"
   ]
  },
  {
   "cell_type": "markdown",
   "metadata": {},
   "source": [
    "### Интерполяция на грани  <a name=\"inter_face\"></a>"
   ]
  },
  {
   "cell_type": "markdown",
   "metadata": {},
   "source": [
    "$$\\int_V \\nabla \\cdot \\left(\\Gamma \\nabla \\phi \\right) dV = \n",
    "\\oint_S \\left(\\Gamma \\nabla \\phi  \\cdot \\vec{n} \\right) dS \\approx\n",
    "\\sum\\limits_{face} \\left(\\Gamma \\nabla \\phi  \\cdot \\vec{n} \\right)_f S_f$$\n",
    "$$\\Gamma_V \\rightarrow \\Gamma_f$$ \n",
    "volScalarField -> surfaceScalarField"
   ]
  },
  {
   "cell_type": "markdown",
   "metadata": {},
   "source": [
    "<img src=\"img/cell.png\" width=\"300\">"
   ]
  },
  {
   "cell_type": "code",
   "execution_count": null,
   "metadata": {},
   "outputs": [],
   "source": [
    "!ls $WM_PROJECT_DIR/src/finiteVolume/interpolation"
   ]
  },
  {
   "cell_type": "code",
   "execution_count": null,
   "metadata": {},
   "outputs": [],
   "source": [
    "!ls $WM_PROJECT_DIR/src/finiteVolume/interpolation/interpolation"
   ]
  },
  {
   "cell_type": "code",
   "execution_count": null,
   "metadata": {
    "scrolled": true
   },
   "outputs": [],
   "source": [
    "!ls $WM_PROJECT_DIR/src/finiteVolume/interpolation/surfaceInterpolation"
   ]
  },
  {
   "cell_type": "code",
   "execution_count": null,
   "metadata": {},
   "outputs": [],
   "source": [
    "!cat $WM_PROJECT_DIR/src/finiteVolume/interpolation/surfaceInterpolation/surfaceInterpolationScheme/surfaceInterpolationScheme.C"
   ]
  },
  {
   "cell_type": "code",
   "execution_count": null,
   "metadata": {},
   "outputs": [],
   "source": [
    "!ls $WM_PROJECT_DIR/src/finiteVolume/interpolation/surfaceInterpolation/schemes"
   ]
  },
  {
   "cell_type": "code",
   "execution_count": null,
   "metadata": {},
   "outputs": [],
   "source": [
    "!cat $WM_PROJECT_DIR/src/finiteVolume/interpolation/surfaceInterpolation/schemes/harmonic/harmonic.H"
   ]
  },
  {
   "cell_type": "code",
   "execution_count": null,
   "metadata": {},
   "outputs": [],
   "source": [
    "!cat $WM_PROJECT_DIR/src/finiteVolume/interpolation/surfaceInterpolation/schemes/midPoint/midPoint.H"
   ]
  },
  {
   "cell_type": "markdown",
   "metadata": {},
   "source": [
    "## Качество сетки <a name=\"mesh_quality\"></a>"
   ]
  },
  {
   "cell_type": "markdown",
   "metadata": {},
   "source": [
    "[Mesh wolfdynamics](../books/wd_mesh.pdf) p.22\n",
    "\n",
    "* Orthogonality.\n",
    "* Skewness.\n",
    "* Aspect Ratio.\n",
    "* Smoothness."
   ]
  },
  {
   "cell_type": "markdown",
   "metadata": {},
   "source": [
    "#### Orthogonality.\n",
    "\n",
    "$$cos(\\theta)$$\n",
    "\n",
    "Угол между вектором нормали (грани) и вектором центров ячеек\n",
    "\n",
    "Влияет на вычисление градиента на грани (на диффузию)\n",
    "\n",
    "\"Добавляет вязкости\"\n",
    "\n",
    "<img src=\"img/orth.png\" width=\"500\">"
   ]
  },
  {
   "cell_type": "markdown",
   "metadata": {},
   "source": [
    "#### Skewness.\n",
    "\n",
    "$$\\Delta_i$$\n",
    "\n",
    "Влияет на интерполяцию\n",
    "\n",
    "Добавляет вязкости и нестабильности\n",
    "\n",
    "Влияет на конвектиный и диффузионный члены\n",
    "\n",
    "<img src=\"img/skew.png\" width=\"500\">"
   ]
  },
  {
   "cell_type": "markdown",
   "metadata": {},
   "source": [
    "#### Aspect Ratio.\n",
    "\n",
    "$$\\Delta y / \\Delta x$$\n",
    "\n",
    "Влияет на расчет градиентов\n",
    "\n",
    "Жесткость СЛАУ\n",
    "\n",
    "<img src=\"img/ar.png\" width=\"500\">"
   ]
  },
  {
   "cell_type": "markdown",
   "metadata": {},
   "source": [
    "#### Smoothness.\n",
    "\n",
    "Точность диффузионного слагаемого\n",
    "\n",
    "<img src=\"img/smooth.png\" width=\"500\">"
   ]
  },
  {
   "cell_type": "code",
   "execution_count": null,
   "metadata": {},
   "outputs": [],
   "source": [
    "!ls mesh_quality"
   ]
  },
  {
   "cell_type": "markdown",
   "metadata": {},
   "source": [
    "<img src=\"img/mesh.png\" width=\"500\">"
   ]
  },
  {
   "cell_type": "code",
   "execution_count": null,
   "metadata": {},
   "outputs": [],
   "source": [
    "!checkMesh -case mesh_quality -allTopology -allGeometry"
   ]
  },
  {
   "cell_type": "markdown",
   "metadata": {},
   "source": [
    "## Возможности учета \"качества сетки\" в OpenFOAM:\n",
    "\n",
    "* коррекция в операторах (неортогональность, скошенность) дивергенции (fvc::laplace, fvc::div, fvm::laplace, fvm:div), схемы в fvSchemes (corrected, limited, skew...) \n",
    "* с версии 2012 [коррекция расчета центров ячеек и граней](https://www.openfoam.com/news/main-news/openfoam-v20-12/numerics) (опция в fvSchemes)\n",
    "\n",
    "[Подробнее про расчет центров ячеек](../books/Nishikawa_centroid_skew_correct.pdf)\n",
    "\n",
    "Nishikawa - много материалов по CFD\n",
    "\n",
    "[Nishikawa researchgate](https://www.researchgate.net/profile/Hiroaki-Nishikawa-2)\n",
    "\n",
    "[Nishikawa site](http://www.hiroakinishikawa.com/)"
   ]
  },
  {
   "cell_type": "markdown",
   "metadata": {},
   "source": [
    "### Градиент на грани <a name=\"face_grad\"></a>\n",
    "\n",
    "$$\\int_V \\nabla \\cdot \\left(\\Gamma \\nabla \\phi \\right) dV = \n",
    "\\oint_S \\left(\\Gamma \\nabla \\phi  \\cdot \\vec{n} \\right) dS \\approx\n",
    "\\sum\\limits_{face} \\left(\\Gamma \\nabla \\phi  \\cdot \\vec{n} \\right)_f S_f$$\n",
    "\n",
    "[Surface-normal gradient schemes](https://www.openfoam.com/documentation/guides/latest/doc/guide-schemes-sngrad.html)\n",
    "\n",
    "$$\\nabla Q = \\vec{n} \\cdot \\left( \\nabla Q \\right)_f$$\n",
    "\n",
    "<img src=\"img/schemes-sngrad-schematic.png\" width=\"300\">\n",
    "\n",
    "* [Orthogonal surface-normal gradient scheme](https://www.openfoam.com/documentation/guides/latest/doc/guide-schemes-sngrad-orthogonal.html)\n",
    "* [Uncorrected surface-normal gradient scheme](https://www.openfoam.com/documentation/guides/latest/doc/guide-schemes-sngrad-uncorrected.html)\n",
    "* [Corrected surface-normal gradient scheme](https://www.openfoam.com/documentation/guides/latest/doc/guide-schemes-sngrad-corrected.html)\n",
    "* [Limited surface-normal gradient scheme](https://www.openfoam.com/documentation/guides/latest/doc/guide-schemes-sngrad-limited.html)\n",
    "\n",
    "```c++\n",
    "snGradSchemes\n",
    "{\n",
    "    default         none;\n",
    "}\n",
    "```"
   ]
  },
  {
   "cell_type": "markdown",
   "metadata": {},
   "source": [
    "[Orthogonal surface-normal gradient scheme](https://www.openfoam.com/documentation/guides/latest/doc/guide-schemes-sngrad-orthogonal.html)\n",
    "\n",
    "$$\\nabla Q = \\frac{Q_P - Q_N}{| \\vec{d} |}$$\n",
    "\n",
    "<img src=\"img/schemes-sngrad-orthogonal.png\" width=\"300\">\n",
    "\n",
    "```c++\n",
    "snGradSchemes\n",
    "{\n",
    "    default         none;\n",
    "    snGrad(Q)       orthogonal;\n",
    "}\n",
    "```"
   ]
  },
  {
   "cell_type": "markdown",
   "metadata": {},
   "source": [
    "[Uncorrected surface-normal gradient scheme](https://www.openfoam.com/documentation/guides/latest/doc/guide-schemes-sngrad-uncorrected.html)\n",
    "\n",
    "$$\\nabla Q = \\alpha \\frac{Q_P - Q_N}{| \\vec{d} |} $$\n",
    "$$\\alpha = \\frac{1}{cos(\\theta)}$$\n",
    "\n",
    "<img src=\"img/schemes-sngrad-schematic.png\" width=\"300\">\n",
    "\n",
    "```c++\n",
    "snGradSchemes\n",
    "{\n",
    "    default         none;\n",
    "    grad(U)         uncorrected;\n",
    "}\n",
    "```"
   ]
  },
  {
   "cell_type": "markdown",
   "metadata": {},
   "source": [
    "[Corrected surface-normal gradient scheme](https://www.openfoam.com/documentation/guides/latest/doc/guide-schemes-sngrad-corrected.html)\n",
    "\n",
    "$$\\nabla Q = \\underbrace{\\alpha \\frac{Q_P - Q_N}{| \\vec{d} |}}_{\\mathrm{implicit}} + \\underbrace{\\left( \\hat{\\vec{n}} - \\alpha \\hat{\\vec{d}} \\right) \\cdot \\left( \\nabla Q \\right)_f}_{\\mathrm{explicit\\ correction}}$$\n",
    "\n",
    "$$\\alpha = \\frac{1}{cos(\\theta)}$$\n",
    "\n",
    "<img src=\"img/schemes-sngrad-schematic.png\" width=\"300\">\n",
    "\n",
    "```c++\n",
    "snGradSchemes\n",
    "{\n",
    "    default         none;\n",
    "    grad(U)         corrected;\n",
    "}\n",
    "```"
   ]
  },
  {
   "cell_type": "markdown",
   "metadata": {},
   "source": [
    "[Limited surface-normal gradient scheme](https://www.openfoam.com/documentation/guides/latest/doc/guide-schemes-sngrad-limited.html)\n",
    "\n",
    "$$\\nabla Q = \\underbrace{\\alpha \\frac{Q_P - Q_N}{| \\vec{d} |}}_{\\mathrm{implicit}} + \\underbrace{\\psi * \\left( \\hat{\\vec{n}} - \\alpha \\hat{\\vec{d}} \\right) \\cdot \\left( \\nabla Q \\right)_f}_{\\mathrm{explicit\\ correction}}$$\n",
    "\n",
    "$$\\alpha = \\frac{1}{cos(\\theta)}$$\n",
    "\n",
    "<img src=\"img/schemes-sngrad-schematic.png\" width=\"300\">\n",
    "\n",
    "```c++\n",
    "snGradSchemes\n",
    "{\n",
    "    default         none;\n",
    "    grad(U)         limited <corrected scheme> <psi>;\n",
    "}\n",
    "psi coefficient between 0 and 1\n",
    "\n",
    "0: no correction, equivalent to the uncorrected scheme\n",
    "1: full correction applied\n",
    "0.5: non-orthogonal contribution does not exceed the orthogonal part\n",
    "```"
   ]
  },
  {
   "cell_type": "markdown",
   "metadata": {},
   "source": [
    "$$\\nabla Q = \\underbrace{\\alpha \\frac{Q_P - Q_N}{| \\vec{d} |}}_{\\mathrm{implicit}} + \\underbrace{\\left( \\hat{\\vec{n}} - \\alpha \\hat{\\vec{d}} \\right) \\cdot \\left( \\nabla Q \\right)_f}_{\\mathrm{explicit\\ correction}}$$\n",
    "\n",
    "<img src=\"img/mesh_slau.png\" width=\"500\">"
   ]
  },
  {
   "cell_type": "code",
   "execution_count": null,
   "metadata": {},
   "outputs": [],
   "source": [
    "!ls $WM_PROJECT_DIR/src/finiteVolume/finiteVolume/laplacianSchemes"
   ]
  },
  {
   "cell_type": "code",
   "execution_count": null,
   "metadata": {},
   "outputs": [],
   "source": [
    "!cat $WM_PROJECT_DIR/src/finiteVolume/finiteVolume/laplacianSchemes/gaussLaplacianScheme/gaussLaplacianScheme.C"
   ]
  },
  {
   "cell_type": "markdown",
   "metadata": {},
   "source": [
    "[lduMatrix doxygen](https://www.openfoam.com/documentation/guides/latest/api/classFoam_1_1lduMatrix.html)"
   ]
  },
  {
   "cell_type": "markdown",
   "metadata": {},
   "source": [
    "Важное свойство - коэффициент на диагонали равен сумме недиагональных коэффициентов"
   ]
  },
  {
   "cell_type": "markdown",
   "metadata": {},
   "source": [
    "$ \\phi $ - поле (неизвестная величина на новом слое по времени)\n",
    "\n",
    "$ \\Gamma $ - известное поле коэффициента диффузии, часто зависит от $\\phi$\n",
    "\n",
    "$ S_f $ - площадь грани, const, меняется только при движение узлов сетки\n",
    "\n",
    "$ \\vec{n} $ - нормаль грани, const, меняется только при движение узлов сетки\n",
    "\n",
    "$$\\sum\\limits_{face} \\left(\\Gamma \\nabla \\phi  \\cdot \\vec{n} \\right)_f S_f$$\n",
    "\n",
    "$\\sum\\limits_{face} \\left(\\Gamma^n \\nabla \\phi^n  \\cdot \\vec{n}^n \\right)_f S_f^n$ - полностью явно\n",
    "\n",
    "$\\sum\\limits_{face} \\left(\\Gamma^n \\nabla \\phi^{n+1}  \\cdot \\vec{n}^n \\right)_f^n S_f^n$ - неявно\n",
    "\n",
    "$\\sum\\limits_{face} \\left(\\Gamma^{n+1} \\nabla \\phi^{n+1}  \\cdot \\vec{n}^{n+1} \\right)_f S_f^{n+1}$ - полностью неявно только итерационно (подцикл на текущем шаге по времени - простая итерация или метод Ньютона)\n",
    "\n",
    "слой по времени для полей (явная или неявная схема) задается в уравнение непосредственно операторами: \n",
    "\n",
    "* fvm - неявная схема $\\phi^{n+1} $\n",
    "* fvc - явная схема $\\phi^{n} $\n",
    "\n",
    "Все вспомогательные поля ($\\Gamma, S_f, \\vec{n}$) могут использоваться только с текущего (известного слоя по времени)"
   ]
  },
  {
   "cell_type": "markdown",
   "metadata": {},
   "source": [
    "Жесткость системы: $\\Gamma_f S_f 1/ d$"
   ]
  },
  {
   "cell_type": "markdown",
   "metadata": {},
   "source": [
    "Смысл (если $\\Gamma > 0$): $\\phi$ перетекает от большего к меньшему "
   ]
  },
  {
   "cell_type": "markdown",
   "metadata": {},
   "source": [
    "Важно: 2я производная по пространству - жесткое ограничение на число Куранта при измельчении сетки! $\\Delta t \\sim \\Delta x^2$"
   ]
  },
  {
   "cell_type": "markdown",
   "metadata": {},
   "source": [
    "Консервативность - потоки с обратным знаком (нормаль меняет знак для ячейки владельца и соседа)"
   ]
  },
  {
   "cell_type": "markdown",
   "metadata": {},
   "source": [
    "Только соседи - низкий порядок точности. Как повысить? См. WENO схемы."
   ]
  },
  {
   "cell_type": "markdown",
   "metadata": {},
   "source": [
    "## OpenFOAM laplacian <a name=\"oflap\"></a>\n"
   ]
  },
  {
   "cell_type": "markdown",
   "metadata": {},
   "source": [
    "[ProgrammerGuide](../books/OFpg.pdf) p.35\n",
    "\n",
    "[FiniteVolume OF Doxygen](https://www.openfoam.com/documentation/guides/latest/api/namespaceFoam_1_1fv.html)\n",
    "\n",
    "В OpenFOAM существуют стандартные операторы производных: $\\frac{\\partial }{\\partial t},\\frac{\\partial ^2}{\\partial\n",
    "t^2},(\\nabla \\cdot \\ ),\\nabla $, которые возвращают коэффициенты СЛАУ вида:  $A\\vec x^{n+1}=\\vec b(\\vec x^n)$, где \n",
    "$\\vec x^{n+1}$ - поле искомой переменной (например  $T$ ) на новом слое по времени ,  $\\vec b(\\vec x^n)$ - правая часть\n",
    "СЛАУ (входят все величины, зависящие от предшествующих шагов по времени:  $n,n-1...$)\n",
    "\n",
    "fvm — неявная аппроксимация (возвращает коэффициенты системы линейных уравнений  $A$ и $\\vec b$).\n",
    "\n",
    "fvc — явная аппроксимация (возвращается вектор правой части СЛАУ -  $\\vec b$).\n",
    "\n",
    "Пример кода, использования операторов производной по времени и лапласиана:"
   ]
  },
  {
   "cell_type": "markdown",
   "metadata": {},
   "source": [
    "$$\\frac{\\partial T}{\\partial t} + \\nabla \\cdot (\\Gamma \\nabla T) = 0 $$\n",
    "\n",
    "```c++\n",
    "while(runTime.run()) // цикл по времени (заканчивается по критерию остановки\n",
    "{\n",
    "runTime++; // переход к следующей итерации по времени \n",
    "    \n",
    "//TEqn — СЛАУ для поля  T (volScalarField)\n",
    "\n",
    "//fvm::ddt(T) — аппроксимация производной по времени\n",
    "\n",
    "//fvm::laplacian(Gamma, T) — неявная аппроксимация лапласиана, Gamma - объемное поле volScalarField\n",
    "\n",
    "//fvс::laplacian(Gamma, T) — явная аппроксимация лапласиана, Gamma - объемное поле volScalarField\n",
    "\n",
    "fvScalarMatrix TEqn (                                        //- инициализация СЛАУ\n",
    "                    fvm::ddt(T)                              // производная по времени\n",
    "                    + theta*fvm::laplacian(Gamma, T, \"implicit_laplace\")         // неявная часть оператора лапласса\n",
    "                    + (1.0-theta)*fvс::laplacian(Gamma, T, \"explicit_laplace\")   // явная часть оператора лапласса\n",
    "                    ); \n",
    "\n",
    "TEqn.relax(); // Релаксация (необходима в случае стационарной задачи), см ниже\n",
    "\n",
    "TEqn.solve();// - решение СЛАУ (результат записывается в T!!!)\n",
    "\n",
    "runTime.write(); // запись всех полей из регистра\n",
    "}\n",
    "```"
   ]
  },
  {
   "cell_type": "markdown",
   "metadata": {},
   "source": [
    "fvm::laplacian(Gamma, T) - возвращает A (и b если коррекция)\n",
    "\n",
    "fvc::laplacian(Gamma, T) - возвращает b "
   ]
  },
  {
   "cell_type": "markdown",
   "metadata": {},
   "source": [
    "Все схемы для аппроксимации производных задаются в файле system/fvSchemes\n",
    "```c++\n",
    "ddtSchemes\n",
    "{\n",
    "    default Euler; // backward;\n",
    "}\n",
    "\n",
    "laplacianSchemes\n",
    "{\n",
    "    default         none;\n",
    "    laplacian(Gamma,T) Gauss linear limited 1;\n",
    "    implicit_laplace   Gauss linear limited 1;\n",
    "    explicit_laplace   Gauss linear limited 1;\n",
    "}\n",
    "\n",
    "interpolationSchemes\n",
    "{\n",
    "    default         linear;\n",
    "}\n",
    "\n",
    "snGradSchemes\n",
    "{\n",
    "    default         limited 1;\n",
    "}\n",
    "```"
   ]
  },
  {
   "cell_type": "markdown",
   "metadata": {},
   "source": [
    "Метод решения СЛАУ задается в файле system/fvSolution\n",
    "```c++\n",
    "solvers\n",
    "{\n",
    "    T\n",
    "    {\n",
    "        solver          PCG;\n",
    "        preconditioner  DIC;\n",
    "        tolerance       1e-06;\n",
    "        relTol          0;\n",
    "    }\n",
    "}\n",
    "\n",
    "SIMPLE\n",
    "{\n",
    "    nNonOrthogonalCorrectors 2;\n",
    "}\n",
    "```"
   ]
  },
  {
   "cell_type": "code",
   "execution_count": null,
   "metadata": {},
   "outputs": [],
   "source": [
    "# tut/basic/laplacianFoam/flange\n",
    "!flange/Allclean\n",
    "!ls flange"
   ]
  },
  {
   "cell_type": "code",
   "execution_count": null,
   "metadata": {},
   "outputs": [],
   "source": [
    "!cat flange/system/controlDict"
   ]
  },
  {
   "cell_type": "code",
   "execution_count": null,
   "metadata": {},
   "outputs": [],
   "source": [
    "!cat flange/system/fvSchemes"
   ]
  },
  {
   "cell_type": "code",
   "execution_count": null,
   "metadata": {},
   "outputs": [],
   "source": [
    "!cat flange/system/fvSolution"
   ]
  },
  {
   "cell_type": "code",
   "execution_count": null,
   "metadata": {},
   "outputs": [],
   "source": [
    "!cat flange/constant/transportProperties"
   ]
  },
  {
   "cell_type": "code",
   "execution_count": null,
   "metadata": {
    "scrolled": false
   },
   "outputs": [],
   "source": [
    "!cat flange/0/T"
   ]
  },
  {
   "cell_type": "code",
   "execution_count": null,
   "metadata": {},
   "outputs": [],
   "source": [
    "!cat flange/Allrun"
   ]
  },
  {
   "cell_type": "code",
   "execution_count": null,
   "metadata": {},
   "outputs": [],
   "source": [
    "!flange/Allrun"
   ]
  },
  {
   "cell_type": "code",
   "execution_count": null,
   "metadata": {},
   "outputs": [],
   "source": [
    "!ls flange"
   ]
  },
  {
   "cell_type": "code",
   "execution_count": null,
   "metadata": {},
   "outputs": [],
   "source": [
    "!checkMesh -case flange"
   ]
  },
  {
   "cell_type": "code",
   "execution_count": null,
   "metadata": {},
   "outputs": [],
   "source": [
    "!cat flange/log.laplacianFoam"
   ]
  },
  {
   "cell_type": "markdown",
   "metadata": {},
   "source": [
    "<table><tr>\n",
    "<td> <img src=\"img/mesh_flange.png\" width=\"400\"> </td>\n",
    "<td> <img src=\"img/field_T_flange_0.1.png\" width=\"400\"> </td>\n",
    "<td> <img src=\"img/field_T_flange.png\" width=\"400\"> </td>\n",
    "</tr></table>"
   ]
  },
  {
   "cell_type": "code",
   "execution_count": null,
   "metadata": {},
   "outputs": [],
   "source": [
    "%%HTML\n",
    "<video width=\"1080\" height=\"720\" controls>\n",
    "  <source src=\"img/output.mp4\" type=\"video/mp4\">\n",
    "</video>"
   ]
  },
  {
   "cell_type": "markdown",
   "metadata": {},
   "source": [
    "## СЛАУ <a name=\"slau\"></a>"
   ]
  },
  {
   "cell_type": "markdown",
   "metadata": {},
   "source": [
    "[OpenFOAM СЛАУ doxygen](https://www.openfoam.com/documentation/guides/latest/doc/guide-solvers.html)"
   ]
  },
  {
   "cell_type": "markdown",
   "metadata": {},
   "source": [
    "СЛАУ:\n",
    "\n",
    "$$\n",
    "\\begin{bmatrix} a_{11} & a_{12} & \\dots & a_{1m} \\\\ a_{21} & a_{22} & \\dots & a_{2m} \\\\ \\vdots & \\vdots & \\ddots & \\vdots \\\\ a_{m1} & a_{m2} & \\dots & a_{mm} \\end{bmatrix} \\begin{bmatrix} \\phi_{1}^{n+1} \\\\ \\phi_{2}^{n+1} \\\\ \\vdots \\\\ \\phi_{m}^{n+1} \\end{bmatrix} = \\begin{bmatrix} b_{1} \\\\ b_{2} \\\\ \\vdots \\\\ b_{m} \\end{bmatrix}\n",
    "$$\n",
    "\n",
    "$n$ - индекс по времени\n",
    "\n",
    "$m$ - номер ячейки"
   ]
  },
  {
   "cell_type": "markdown",
   "metadata": {},
   "source": [
    "$$\n",
    "A \\vec{\\phi}^{n+1} = \\vec{b}\n",
    "$$\n",
    "$A$ - коэффициенты матрицы\n",
    "\n",
    "$\\vec{\\phi}^{n+1}$ - неизвестное объемное поле величины\n",
    "\n",
    "$\\vec{b}(\\phi^{n, n-1 ...}) $ - правая часть (объемное поле)"
   ]
  },
  {
   "cell_type": "markdown",
   "metadata": {},
   "source": [
    "Явные схемы - все операторы зависят только от $\\phi_n$ - диагональная матрица $A$\n",
    "$$\\vec{\\phi}^{n+1} = A^{-1} \\vec{b}$$\n",
    "$${A}^{-1} = \\frac{1}{\\mathrm{diag}({A})}$$"
   ]
  },
  {
   "cell_type": "markdown",
   "metadata": {},
   "source": [
    "Неявные схемы - линейная связь неизвестного значения на новом слое с соседями!\n",
    "\n",
    "Соседних ячеек мало (кол-во граней ячейки), общее кол-во ячеек огромно - разреженная матрица! \n",
    "\n",
    "Большая часть коэффициентов равна нулю\n",
    "\n",
    "[LduMatrix doxygen](https://www.openfoam.com/documentation/guides/latest/api/classFoam_1_1LduMatrix.html)\n",
    "\n",
    "LDU формат хранения матрицы\n",
    "\n",
    "Явная связь топологии сетки (связи между ячейками) с ненулевыми коэффициентами матрицы!\n",
    "\n",
    "Основа - грань (две ячейки - владелец и сосед)\n",
    "\n",
    "L - owner (владельцы)\n",
    "\n",
    "U - neighbour (соседи)"
   ]
  },
  {
   "cell_type": "markdown",
   "metadata": {},
   "source": [
    "<img src=\"img/mesh_slau.png\" width=\"500\">"
   ]
  },
  {
   "cell_type": "markdown",
   "metadata": {},
   "source": [
    "### Итерационные методы решения СЛАУ:\n",
    "\n",
    "[OpenFOAM darwish](../books/darwish.pdf) p.328 (303)\n",
    "\n",
    "[Лекции Кузнецов](https://vk.com/slae2021)\n",
    "\n",
    "1. [Smooth solvers](https://www.openfoam.com/documentation/guides/latest/doc/guide-solvers-smooth.html) (предобуславливатели)\n",
    "2. [Conjugate gradient solvers](https://www.openfoam.com/documentation/guides/latest/doc/guide-solvers-cg.html)\n",
    "3. [Multigrid solvers](https://www.openfoam.com/documentation/guides/latest/doc/guide-solvers-multigrid.html)\n"
   ]
  },
  {
   "cell_type": "markdown",
   "metadata": {},
   "source": [
    "### [Smooth solvers](https://www.openfoam.com/documentation/guides/latest/doc/guide-solvers-smooth.html) Предобуславливатели\n",
    "\n",
    "Предобуславливание - уменьшение числа обусловленности задачи ($\\mu$, $\\lambda_{max}/\\lambda_{min}$)\n",
    "\n",
    "Ошибки есть всегда! $A = A+\\delta A, \\vec b = \\vec b + \\vec {\\delta b}$\n",
    "\n",
    "Неидеальность дескретизации (сетка, операторы)\n",
    "\n",
    "Симметричные (диффузия) и несимметричные (конвекция) матрицы\n",
    "\n",
    "* DIC Gauss Seidel Smoother\n",
    "* DIC Smoother - Предобуславливатель Холецкого\n",
    "* FDIC Smoother\n",
    "* DILU Smoother\n",
    "* Gauss Seidel Smoother\n",
    "* Symmetric Gauss Seidel Smoother\n",
    "\n",
    "fvSolution\n",
    "```c++\n",
    "{\n",
    "solver          smooth;\n",
    "smoother        <smoother>;\n",
    "relTol          <relative tolerance>; // относетльная невязка (до какой точности решать на текущем шаге)\n",
    "tolerance       <absolute tolerance>; // общая невязка (до какой точности решать в целом)\n",
    "}\n",
    "```\n",
    "\n",
    "<img src=\"img/slau_error.png\" width=\"300\">"
   ]
  },
  {
   "cell_type": "markdown",
   "metadata": {},
   "source": [
    "### [Conjugate gradient solvers](https://www.openfoam.com/documentation/guides/latest/doc/guide-solvers-cg.html)\n",
    "\n",
    "Градиентные методы, стандартный набор\n",
    "\n",
    "* Preconditioned bi-conjugate gradient (PBiCG)\n",
    "* Preconditioned bi-conjugate gradient (PBiCGStab)\n",
    "* Preconditioned conjugate gradient (PCG)\n",
    "\n",
    "fvSolution\n",
    "```c++\n",
    "{\n",
    "solver          PBiCG;\n",
    "preconditioner  <conditioner>;\n",
    "relTol          <relative tolerance>;\n",
    "tolerance       <absolute tolerance>;\n",
    "}\n",
    "```\n",
    "    \n",
    "GMRES (нет в OpenFOAM v2106..., есть в extended версии)"
   ]
  },
  {
   "cell_type": "markdown",
   "metadata": {},
   "source": [
    "### [Multigrid solvers](https://www.openfoam.com/documentation/guides/latest/doc/guide-solvers-multigrid.html)\n",
    "\n",
    "Алгебраический многосеточный метод (GAMG)\n",
    "\n",
    "<img src=\"img/mesh_gamg.png\" height=\"300\" >\n",
    "<img src=\"img/restrict_step.png\" height=\"300\" >\n",
    "<img src=\"img/prolong_step.png\" height=\"300\">\n",
    "\n",
    "Меньше памяти (по сравнению с PCG), используется на GPU\n",
    "\n",
    "fvSolution\n",
    "```c++\n",
    "{\n",
    "// Mandatory entries\n",
    "solver                  GAMG;\n",
    "smoother                <smoother>;\n",
    "relTol                  <relative tolerance>;\n",
    "tolerance               <absolute tolerance>;\n",
    "\n",
    "\n",
    "// Optional entries and associated default values\n",
    "\n",
    "// Agglomeration\n",
    "cacheAgglomeration      yes;\n",
    "nCellsInCoarsestLevel   10;\n",
    "processorAgglomerator   <processor agglomeration method>;\n",
    "\n",
    "// Solver\n",
    "nPreSweeps              0;\n",
    "preSweepsLevelMultiplier 1;\n",
    "maxPreSweeps            4;\n",
    "nPostSweeps             2;\n",
    "postSweepsLevelMultiplier 1;\n",
    "maxPostSweeps           4;\n",
    "nFinestSweeps           2;\n",
    "interpolateCorrection   no;\n",
    "scaleCorrection         yes;  // Yes: symmetric No: Asymmetric\n",
    "directSolveCoarsest     no;\n",
    "```"
   ]
  },
  {
   "cell_type": "markdown",
   "metadata": {},
   "source": [
    "### OpenFOAM контроль решения\n",
    "* [Under relaxation](https://www.openfoam.com/documentation/guides/latest/doc/guide-solvers-under-relaxation.html) релаксация\n",
    "* [Residuals](https://www.openfoam.com/documentation/guides/latest/doc/guide-solvers-residuals.html) невязка\n",
    "* [Case termination](https://www.openfoam.com/documentation/guides/latest/doc/guide-solvers-case-termination.html)"
   ]
  },
  {
   "cell_type": "markdown",
   "metadata": {},
   "source": [
    "### [Under relaxation](https://www.openfoam.com/documentation/guides/latest/doc/guide-solvers-under-relaxation.html)\n",
    "\n",
    "Field under-relaxation $T^n = T^{n-1} + \\alpha \\left( T^n - T^{n-1} \\right)$ \n",
    "\n",
    "T.relax() // volSalarField T\n",
    "\n",
    "Equation under-relaxation\n",
    "\n",
    "Стационарная постановка задачи (интересно решение при $\\lim_{t \\to \\infty}$ ) $$\\nabla \\cdot (\\Gamma \\nabla T) = 0 $$\n",
    "\n",
    "На самом деле решается уравнение с производной по времени (метод установления)\n",
    "\n",
    "Ускорение за счет локального шага по времени или релаксации (одно и тоже)\n",
    "\n",
    "$\\lim_{n \\to \\infty} T^n_j \\approx T^{n-1}_j $ , для всех j, где j - номер ячейки\n",
    "\n",
    "$\\beta_j T^n_j = \\beta_j T^{n-1}_j $\n",
    "\n",
    "!ВНИМАНИЕ, $\\beta_j$ - свое для каждой ячейки \n",
    "\n",
    "Можно интерпретировать как локальный шаг по времени для каждой ячейки: ${\\partial{T} \\over {\\partial t}} = \\beta (T^n - T^{n-1}) = {1 \\over {\\Delta t}}(T^n - T^{n-1}) $\n",
    "\n",
    "$ \\alpha = {\\sum a} / d $\n",
    "\n",
    "Диагональное преобладание (диагональный элемент > суммы недиагональных)\n",
    "\n",
    "Используется: steadyState (time scheme fvSchemes) + eq relax. Только для стационарных задач и только в связке с релаксацией\n",
    "\n",
    "steadyState схема - ничего не делает (коэффициент на диагонали - 0 в случае оператора fvm::ddt)\n",
    "\n",
    "TEq.relax() // fvScalarMatrix\n",
    "\n",
    "fvSolution\n",
    "```c++\n",
    "relaxationFactors\n",
    "{\n",
    "    fields\n",
    "    {\n",
    "     T alpha;\n",
    "    }\n",
    "    equations\n",
    "    {\n",
    "     T alpha;\n",
    "    }\n",
    "}\n",
    "```\n",
    "\n",
    "$\\alpha = 0$ - старый шаг ( 0 на диагонали) - меньше стабильность, больше итераций, меньше время одной итерации\n",
    "\n",
    "$\\alpha = 1$ - новый шаг (1 на диагонали) - больше стабильность, меньше итераций, больше время одной итерации\n",
    "\n",
    "обычно выбирают 0.7-0.9 для более быстрого решения"
   ]
  },
  {
   "cell_type": "markdown",
   "metadata": {},
   "source": [
    "Внимание!\n",
    "\n",
    "fvm::laplacian(Gamma, T) + fvm::SuSp(T)\n",
    "\n",
    "это не одно и тоже\n",
    "\n",
    "-fvm::laplacian(Gamma, T) - fvm::SuSp(T)\n",
    "\n",
    "Релаксация - положительные коэффициенты на диагонали. НЕТ СИММЕТРИИ относительно знака слагаемых в уравнение!"
   ]
  },
  {
   "cell_type": "markdown",
   "metadata": {},
   "source": [
    "### [Residuals](https://www.openfoam.com/documentation/guides/latest/doc/guide-solvers-residuals.html)\n",
    "\n",
    "```c++\n",
    "tolerance       1e-6;\n",
    "relTol          0.1;\n",
    "```\n",
    "СЛАУ:\n",
    "$${A} \\vec{x} = \\vec{b}$$\n",
    "Невязка:\n",
    "$$\\vec{r} = \\vec{b} - {A} \\vec{x}$$\n",
    "\n",
    "Норма:\n",
    "$$n = \\sum \\left( |{{A}\\vec{x} - {A}\\overline{\\vec{x}}}| + |{\\vec{b} - {A}\\overline{\\vec{x}}}| \\right)$$\n",
    "\n",
    "Итог:\n",
    "$$r = \\frac{1}{n} \\sum |{\\vec{b} - {A} \\vec{x}}|$$"
   ]
  },
  {
   "cell_type": "markdown",
   "metadata": {},
   "source": [
    "### [Case termination](https://www.openfoam.com/documentation/guides/latest/doc/guide-solvers-case-termination.html)\n",
    "\n",
    "дополнительные настройки в fvSolution\n",
    "\n",
    "#### Стационарные задачи\n",
    "\n",
    "SIMPLE алгоритм\n",
    "\n",
    "Контроль завершения программы\n",
    "```c++\n",
    "residualControl\n",
    "{\n",
    "    p           1e-2;\n",
    "    \"(Ux Uy)\"   1e-4;\n",
    "    \"(k|epsilon|omega)\" 1e-4;\n",
    "}\n",
    "```\n",
    "\n",
    "#### Нестационарные задачи\n",
    "\n",
    "PIMPLE алгоритм\n",
    "\n",
    "```c++\n",
    "// Maximum number of outer correctors\n",
    "nOuterCorrectors    50;\n",
    "\n",
    "residualControl\n",
    "{\n",
    "    \"(U|k|epsilon|omega)\"\n",
    "    {\n",
    "        relTol          0;\n",
    "        tolerance       1e-4;\n",
    "    }\n",
    "}\n",
    "```"
   ]
  },
  {
   "cell_type": "markdown",
   "metadata": {},
   "source": [
    "## Заключение <a name=\"finish\"></a>"
   ]
  },
  {
   "cell_type": "markdown",
   "metadata": {},
   "source": [
    "1. [Диффузия](#lap)\n",
    "2. [Интерполяция на грани](#inter_face)\n",
    "3. [Качество сетки](#mesh_quality)\n",
    "4. [Градиент на грани](#face_grad)\n",
    "5. [OpenFOAM laplacian](#oflaplacian)"
   ]
  },
  {
   "cell_type": "markdown",
   "metadata": {},
   "source": [
    "Для зачета написать программу:\n",
    "\n",
    "Задача Коши для уравнения теплопроводности с источниковым членом на отрезке [0,L]:\n",
    "\n",
    "$$\\frac{\\partial T}{\\partial t} = \\nabla \\cdot (\\Gamma \\nabla T) + \\alpha T^k $$\n",
    "\n",
    "$$ T(t=0) = 0$$\n",
    "\n",
    "$$ T(x=0) = T_0*(2+sin(\\omega t))/2$$\n",
    "$$ \\nabla T(x=L) = 0$$\n",
    "\n",
    "$$\\Gamma, \\alpha,k,T_0, \\omega = const$$\n",
    "\n",
    "2 балла. 2 вопроса. Каждую неделю кол-во вопросов увеличивается в 2 раза."
   ]
  },
  {
   "cell_type": "markdown",
   "metadata": {},
   "source": [
    "Совет\n",
    "\n",
    "[ГУ sin в OpenFOAM - Function1](https://www.openfoam.com/documentation/guides/latest/api/classFoam_1_1Function1.html)\n",
    "\n",
    "Пример использования ГУ - tutorials/compressible/rhoPimpleFoam/laminar/sineWaveDamping/0/p\n",
    "\n",
    "Следите за числом Куранта! Можно прямо в программе посчитать!"
   ]
  },
  {
   "cell_type": "markdown",
   "metadata": {},
   "source": [
    "## В следующей серии ..."
   ]
  },
  {
   "cell_type": "markdown",
   "metadata": {},
   "source": [
    "Сдача задания!\n",
    "\n",
    "<table><tr>\n",
    "<td> <img src=\"img/zach_1.jpeg\" width=\"400\"> </td>\n",
    "<td> <img src=\"img/zach_2.jpeg\" width=\"400\"> </td>\n",
    "<td> <img src=\"img/zach_3.jpeg\" width=\"400\"> </td>\n",
    "</tr></table>\n"
   ]
  }
 ],
 "metadata": {
  "kernelspec": {
   "display_name": "Python 3",
   "language": "python",
   "name": "python3"
  },
  "language_info": {
   "codemirror_mode": {
    "name": "ipython",
    "version": 3
   },
   "file_extension": ".py",
   "mimetype": "text/x-python",
   "name": "python",
   "nbconvert_exporter": "python",
   "pygments_lexer": "ipython3",
   "version": "3.10.12"
  }
 },
 "nbformat": 4,
 "nbformat_minor": 4
}
