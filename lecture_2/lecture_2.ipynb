{
 "cells": [
  {
   "cell_type": "markdown",
   "metadata": {},
   "source": [
    "# Лекция №2"
   ]
  },
  {
   "cell_type": "markdown",
   "metadata": {},
   "source": [
    "## На прошлой лекции"
   ]
  },
  {
   "cell_type": "markdown",
   "metadata": {},
   "source": [
    "1. [О чем курс?](../lecture_1/lecture_1.ipynb#what)\n",
    "2. [Для кого?](../lecture_1/lecture_1.ipynb#who)\n",
    "3. [Литература + ПО?](../lecture_1/lecture_1.ipynb#lib_soft)\n",
    "4. [Ansys vs OpenFOAM. Кто твой БРО?](../lecture_1/lecture_1.ipynb#avso)\n",
    "5. [Что такое OpenFOAM?](../lecture_1/lecture_1.ipynb#OpenFOAM_w)\n",
    "6. [Hello world!](../lecture_1/lecture_1.ipynb#hello)\n",
    "7. [Doxygen](../lecture_1/lecture_1.ipynb#Doxygen)\n",
    "8. [Контейнеры?](../lecture_1/lecture_1.ipynb#Containers)\n",
    "9. [Примеры простых программ](../lecture_1/lecture_1.ipynb#tests)"
   ]
  },
  {
   "cell_type": "markdown",
   "metadata": {},
   "source": [
    "## План\n",
    "\n",
    "0. [Работа с сервером](#server)\n",
    "1. [Работа на кластере. Планировщик задач Slurm](#slurm)\n",
    "2. [Интерполяция и argList](#Interpolation)\n",
    "3. [Примитивы OpenFOAM](#src/OpenFOAM)\n",
    "4. [Класс Time](#Time)\n",
    "5. [Формат сетки OpenFOAM](#mesh)\n",
    "6. [Заключение](#finish)"
   ]
  },
  {
   "cell_type": "code",
   "execution_count": null,
   "metadata": {},
   "outputs": [],
   "source": [
    "# материалы можно смотреть в jupyter, VS code или ... ipynb\n",
    "# ! команда - bash команды \n",
    "# все примеры можно запускать в терминале отдельно от лекций\n",
    "!ls"
   ]
  },
  {
   "cell_type": "markdown",
   "metadata": {},
   "source": [
    "## Работа с сервером <a name=\"server\"></a>\n",
    "\n",
    "[Введение в Линукс](https://stepik.org/course/73/promo) - видео лекций по работе с linux системой для тех, у кого проблемы с работой в терминале\n",
    "\n",
    "Всем на почту пришло сообщение:\n",
    "\n",
    "| логин сервера       | пароль           | хост  | логин кластера МФТИ      | пароль           | хост кластера МФТИ |\n",
    "| ------------- |:-------------:| :-------------:| :-------------:| :-------------:| :-------------:| \n",
    "|user21\t|******** |\t10.55.229.140|\tkurashov.vv09|\t*********\t|calc.cod.phystech.edu|\n",
    "\n",
    "Сервер \n",
    "* 2 ядра, мало памяти, только для просмотра материалов!\n",
    "* только из локальной сети МФТИ, нет подключения к интернету\n",
    "* установлен OpenFOAM\n",
    "* лекции 2022 в папке /home/lectures (git clone /home/lectures)\n",
    "* Python+jupyter расширение для VS code в папке /home/lectures/vs_extensions\n",
    "\n",
    "Кластер МФТИ\n",
    "* много ядер, много памяти\n",
    "* ЗАПУСКАТЬ РАСЧЕТЫ ТОЛЬКО ЧЕРЕЗ SLURM!!!\n",
    "\n",
    "### SSH key\n",
    "\n",
    "* [Генерация ssh ключа](https://selectel.ru/blog/tutorials/how-to-generate-ssh/) - нужно для входа без пароля\n",
    "* ssh-copy-id логин@хост (пример: ssh-copy-id user1@10.55.229.140 или ssh-copy-id kurashov.vv09@calc.cod.phystech.edu), дальше ввести один раз пароль\n",
    "\n",
    "### VS code\n",
    "\n",
    "* установить расширение Remote-ssh\n",
    "* добавить серверы\n",
    "* установить на локальном сервере расширения (... + /home/lectures/vs_extensions)\n",
    "* создать папку 2023/Фамилия\n",
    "* сделать git clone лекций из репозитория /home/lectures"
   ]
  },
  {
   "cell_type": "markdown",
   "metadata": {},
   "source": [
    "## Работа на кластере. Планировщик задач Slurm <a name=\"slurm\"></a>"
   ]
  },
  {
   "cell_type": "markdown",
   "metadata": {},
   "source": [
    "[Документация slurm](https://slurm.schedmd.com/documentation.html)\n",
    "\n",
    "[Slurm tutorial](https://slurm.schedmd.com/tutorials.html)\n",
    "\n",
    "[Шпаргалка slurm](../books/summary.pdf)\n",
    "\n",
    "<img src=\"img/cluster.png\" width=\"600\">\n"
   ]
  },
  {
   "cell_type": "markdown",
   "metadata": {},
   "source": [
    "# УПРАВЛЯЮЩИЙ УЗЕЛ ОДИН ДЛЯ ВСЕХ! НУЖЕН ТОЛЬКО ДЛЯ УПРАВЛЕНИЯ!\n",
    "\n",
    "# НИКОГДА НЕ ЗАПУСКАТЬ БОЛЬШИЕ ЗАДАЧИ НА УПРАВЛЯЮЩЕМ УЗЛЕ!"
   ]
  },
  {
   "cell_type": "markdown",
   "metadata": {},
   "source": [
    "### Основные команды:\n",
    "\n",
    "* sacct is used to report job or job step accounting information about active or completed jobs.\n",
    "\n",
    "* salloc is used to allocate resources for a job in real time. Typically this is used to allocate resources and spawn a shell. The shell is then used to execute srun commands to launch parallel tasks.\n",
    "\n",
    "* sattach is used to attach standard input, output, and error plus signal capabilities to a currently running job or job step. One can attach to and detach from jobs multiple times.\n",
    "\n",
    "* sbatch is used to submit a job script for later execution. The script will typically contain one or more srun commands to launch parallel tasks.\n",
    "\n",
    "* sbcast is used to transfer a file from local disk to local disk on the nodes allocated to a job. This can be used to effectively use diskless compute nodes or provide improved performance relative to a shared file system.\n",
    "\n",
    "* scancel is used to cancel a pending or running job or job step. It can also be used to send an arbitrary signal to all processes associated with a running job or job step.\n",
    "\n",
    "* scontrol is the administrative tool used to view and/or modify Slurm state. Note that many scontrol commands can only be executed as user root.\n",
    "\n",
    "* sinfo reports the state of partitions and nodes managed by Slurm. It has a wide variety of filtering, sorting, and formatting options.\n",
    "\n",
    "* sprio is used to display a detailed view of the components affecting a job's priority.\n",
    "\n",
    "* squeue reports the state of jobs or job steps. It has a wide variety of filtering, sorting, and formatting options. By default, it reports the running jobs in priority order and then the pending jobs in priority order.\n",
    "\n",
    "* srun is used to submit a job for execution or initiate job steps in real time. srun has a wide variety of options to specify resource requirements, including: minimum and maximum node count, processor count, specific nodes to use or not use, and specific node characteristics (so much memory, disk space, certain required features, etc.). A job can contain multiple job steps executing sequentially or in parallel on independent or shared resources within the job's node allocation.\n",
    "\n",
    "* sshare displays detailed information about fairshare usage on the cluster. Note that this is only viable when using the priority/multifactor plugin.\n",
    "\n",
    "* sstat is used to get information about the resources utilized by a running job or job step.\n",
    "\n",
    "* strigger is used to set, get or view event triggers. Event triggers include things such as nodes going down or jobs approaching their time limit.\n",
    "\n",
    "* sview is a graphical user interface to get and update state information for jobs, partitions, and nodes managed by Slurm."
   ]
  },
  {
   "cell_type": "markdown",
   "metadata": {},
   "source": [
    "### Примеры:\n",
    "для удобства удаленный запуск через ssh:\n",
    "прописать в ~/.bashrc функцию\n",
    "\n",
    "```bash\n",
    "phystech()\n",
    "{\n",
    "    # ssh USER@HOST command\n",
    "    ssh kurashov.vv01@calc.cod.phystech.edu $1\n",
    "}\n",
    "```\n",
    "\n",
    "phystech ls - запускает команду ls на HOST под USER"
   ]
  },
  {
   "cell_type": "code",
   "execution_count": null,
   "metadata": {},
   "outputs": [],
   "source": [
    "# управляющий узел\n",
    "phystech = \"ssh kurashov.vv01@calc.cod.phystech.edu \""
   ]
  },
  {
   "cell_type": "code",
   "execution_count": null,
   "metadata": {},
   "outputs": [],
   "source": [
    "# ресурсы управляющего узла\n",
    "!$phystech \"lscpu\""
   ]
  },
  {
   "cell_type": "code",
   "execution_count": null,
   "metadata": {},
   "outputs": [],
   "source": [
    "# ресурсы одного из расчетных узлов\n",
    "# srun - запуск текущей или начальной комманды на вычислительном узле\n",
    "# для параллельного расчета используем sbatch\n",
    "# у каждой задачи есть id\n",
    "\n",
    "!$phystech \"srun lscpu\""
   ]
  },
  {
   "cell_type": "code",
   "execution_count": null,
   "metadata": {},
   "outputs": [],
   "source": [
    "# sinfo - текущее состояние ресурсов\n",
    "# idle - доступно\n",
    "# alloc - занято полностью\n",
    "\n",
    "!$phystech \"sinfo\""
   ]
  },
  {
   "cell_type": "code",
   "execution_count": null,
   "metadata": {},
   "outputs": [],
   "source": [
    "# squeue - текущее состояние очереди задач\n",
    "\n",
    "!$phystech \"squeue\""
   ]
  },
  {
   "cell_type": "code",
   "execution_count": null,
   "metadata": {},
   "outputs": [],
   "source": [
    "# sacct - журнал выполнения задач\n",
    "\n",
    "!$phystech \"sacct\""
   ]
  },
  {
   "cell_type": "code",
   "execution_count": null,
   "metadata": {},
   "outputs": [],
   "source": [
    "#sbatch - добавление задачи в очередь (задача - bash скрипт с опциями)\n",
    "\n",
    "!$phystech \"cat example_run.sh\""
   ]
  },
  {
   "cell_type": "markdown",
   "metadata": {},
   "source": [
    "пример задачи из текстового файла example_run.sh\n",
    "```bash\n",
    "\n",
    "#!/bin/bash\n",
    "#SBATCH -n 16\n",
    "#SBATCH --partition=RT\n",
    "#SBATCH --job-name=sleep\n",
    "#SBATCH --comment=\"run sleep example for education\"\n",
    "\n",
    "sleep 60\n",
    "\n",
    "# OpenFOAM run\n",
    "# decomposePar\n",
    "# mpirun -np 16 foam_solver -parallel\n",
    "\n",
    "```\n",
    "\n",
    "#SBATCH - опции запуска\n",
    "\n",
    "sleep 60 - запуск команды sleep с опцией 60\n"
   ]
  },
  {
   "cell_type": "code",
   "execution_count": null,
   "metadata": {},
   "outputs": [],
   "source": [
    "from time import sleep\n",
    "# проверяем доступные ресурсы\n",
    "!$phystech \"sinfo\"\n",
    "\n",
    "# добавляем задачу в очередь\n",
    "!$phystech \"sbatch example_run.sh\"\n",
    "\n",
    "# еще раз смотрим на ресурсы. Убеждаемся, что нам дали узел (16 ядер, пол узла) для расчета\n",
    "!$phystech \"sinfo\"\n",
    "\n",
    "# Проверяем текущий статус задачи в очереди задач. Убеждаемся, что наша задача запущена\n",
    "!$phystech \"squeue\"\n",
    "\n",
    "sleep(60) # ждем минуту\n",
    "\n",
    "# Проверяем текущий статус задачи в очереди задач. Очередь должна быть пуста, задача исполнена\n",
    "!$phystech \"squeue\"\n",
    "\n",
    "# Смотрит отметку о выполнении задачи в журнале задач\n",
    "!$phystech \"sacct\""
   ]
  },
  {
   "cell_type": "code",
   "execution_count": null,
   "metadata": {},
   "outputs": [],
   "source": [
    "# лог работы записывается в файл slurm-JOB_ID.out\n",
    "!$phystech ls"
   ]
  },
  {
   "cell_type": "code",
   "execution_count": null,
   "metadata": {},
   "outputs": [],
   "source": [
    "# scancel - отменяет задачу по id"
   ]
  },
  {
   "cell_type": "markdown",
   "metadata": {},
   "source": [
    "## Интерполяция и аргументы командной строки<a name=\"Interpolation\"></a>"
   ]
  },
  {
   "cell_type": "code",
   "execution_count": null,
   "metadata": {},
   "outputs": [],
   "source": [
    "%cd Interpolation"
   ]
  },
  {
   "cell_type": "code",
   "execution_count": null,
   "metadata": {},
   "outputs": [],
   "source": [
    "!ls"
   ]
  },
  {
   "cell_type": "code",
   "execution_count": null,
   "metadata": {},
   "outputs": [],
   "source": [
    "# отдельная папка для запуска\n",
    "!ls test"
   ]
  },
  {
   "cell_type": "code",
   "execution_count": null,
   "metadata": {},
   "outputs": [],
   "source": [
    "#!cat Interpolation.C"
   ]
  },
  {
   "cell_type": "markdown",
   "metadata": {},
   "source": [
    "```c++\n",
    "/*---------------------------------------------------------------------------*\\\n",
    "  =========                 |\n",
    "  \\\\      /  F ield         | OpenFOAM: The Open Source CFD Toolbox\n",
    "   \\\\    /   O peration     |\n",
    "    \\\\  /    A nd           | Copyright (C) 2011-2016 OpenFOAM Foundation\n",
    "     \\\\/     M anipulation  |\n",
    "-------------------------------------------------------------------------------\n",
    "License\n",
    "    This file is part of OpenFOAM.\n",
    "\n",
    "    OpenFOAM is free software: you can redistribute it and/or modify it\n",
    "    under the terms of the GNU General Public License as published by\n",
    "    the Free Software Foundation, either version 3 of the License, or\n",
    "    (at your option) any later version.\n",
    "\n",
    "    OpenFOAM is distributed in the hope that it will be useful, but WITHOUT\n",
    "    ANY WARRANTY; without even the implied warranty of MERCHANTABILITY or\n",
    "    FITNESS FOR A PARTICULAR PURPOSE.  See the GNU General Public License\n",
    "    for more details.\n",
    "\n",
    "    You should have received a copy of the GNU General Public License\n",
    "    along with OpenFOAM.  If not, see <http://www.gnu.org/licenses/>.\n",
    "\n",
    "Application\n",
    "    Interpolation\n",
    "\n",
    "\n",
    "Description\n",
    "   Interpoletion class example OpenFOAM\n",
    "\\*---------------------------------------------------------------------------*/\n",
    "\n",
    "#include \"fvCFD.H\"\n",
    "#include \"interpolateXY.H\"\n",
    "#include \"IFstream.H\"\n",
    "// * * * * * * * * * * * * * * * * * * * * * * * * * * * * * * * * * * * * * //\n",
    "\n",
    "int main(int argc, char *argv[])\n",
    "{ \n",
    "    \n",
    "// arguments using example\n",
    "// <) FOAM/applications/utilities/surface/surfaceTransformPoints/surfaceTransformPoints.C\n",
    "    \n",
    "argList::addNote\n",
    "    (\n",
    "        \"p, T, rho (H) Earth\"\n",
    "    );\n",
    " \n",
    "argList::addOption\n",
    "    (\n",
    "        \"H\",\n",
    "        \"scalar\",\n",
    "        \"height of Earth\"\n",
    "    );\n",
    " argList::noBanner();\n",
    "\n",
    "#include \"setRootCase.H\" //  инициализируется объект класса argList с именем args\n",
    "\n",
    " scalar H = 11111; // задаем значение высоты в метрах, на которой нужно найти термодинамические величины\n",
    "\n",
    " if (args.readIfPresent(\"H\", H))\n",
    "    {\n",
    "       Info << \"H = \" << H << endl;\n",
    "    }\n",
    " fileName atmospherePath = (args.path() + \"/atmosphere\");\n",
    "\n",
    " // Info << atmospherePath << endl; \n",
    "\n",
    " IFstream in (atmospherePath); // создаем поток ввода из файла atmosphere\n",
    "\n",
    "dictionary atmosphere (in); // инициализируем словарь\n",
    "\n",
    "//Info << atmosphere << endl; // вывод словаря\n",
    "\n",
    "// scalarField - (Field<scalar>) класс поля (наследуется от класса List) с расширенным функционалом\n",
    " \n",
    "scalarField h (atmosphere.lookup(\"h\")); // считываем массивы для h - высоты (м), T - температуры (K), p - давления (Па) и rho - плотности (кг/м^3) стандартной атмосферы Земли\n",
    "scalarField T (atmosphere.lookup(\"T\"));\n",
    "scalarField p (atmosphere.lookup(\"p\"));\n",
    "scalarField rho(atmosphere.lookup(\"rho\"));\n",
    " \n",
    " Info << \"p = \" << interpolateXY<scalar>(H, h, p) << endl; // функция линейной интерполяции, вывод значения давления с высоты H\n",
    " Info << \"T = \" << interpolateXY<scalar>(H, h, T) << endl; // вывод значения температуры с высоты H\n",
    " Info << \"rho = \" <<interpolateXY<scalar>(H, h, rho) << endl; // вывод значения плотности с высоты H\n",
    "\n",
    " //#include \"createTime.H\" // создается объект класса Time с именем runTime\n",
    "\n",
    "    return 0;\n",
    "}\n",
    "\n",
    "\n",
    "// ************************************************************************* //\n",
    "```"
   ]
  },
  {
   "cell_type": "code",
   "execution_count": null,
   "metadata": {},
   "outputs": [],
   "source": [
    "%cat Make/files"
   ]
  },
  {
   "cell_type": "code",
   "execution_count": null,
   "metadata": {},
   "outputs": [],
   "source": [
    "%cat Make/options"
   ]
  },
  {
   "cell_type": "code",
   "execution_count": null,
   "metadata": {},
   "outputs": [],
   "source": [
    "# чистим и компилируем\n",
    "!wclean\n",
    "!wmake"
   ]
  },
  {
   "cell_type": "code",
   "execution_count": null,
   "metadata": {},
   "outputs": [],
   "source": [
    "# смотрим содержимое файла атмосферы (табличные данные для интерполяции)\n",
    "%cat atmosphere"
   ]
  },
  {
   "cell_type": "code",
   "execution_count": null,
   "metadata": {},
   "outputs": [],
   "source": [
    "# описание программы\n",
    "!Interpolation -help"
   ]
  },
  {
   "cell_type": "code",
   "execution_count": null,
   "metadata": {},
   "outputs": [],
   "source": [
    "# запуск\n",
    "!Interpolation"
   ]
  },
  {
   "cell_type": "code",
   "execution_count": null,
   "metadata": {},
   "outputs": [],
   "source": [
    "# запускаем с аргументом (высота 100 метров)\n",
    "!Interpolation -H 100"
   ]
  },
  {
   "cell_type": "code",
   "execution_count": null,
   "metadata": {},
   "outputs": [],
   "source": [
    "# запуск в другой корневой папке (test)\n",
    "!Interpolation -case test"
   ]
  },
  {
   "cell_type": "code",
   "execution_count": null,
   "metadata": {},
   "outputs": [],
   "source": [
    "# пробуем запустить в папке, где нет файла атмосферы\n",
    "!Interpolation -case ~/"
   ]
  },
  {
   "cell_type": "markdown",
   "metadata": {},
   "source": [
    "## Примитивы OpenFOAM <a name=\"src/OpenFOAM\"></a>"
   ]
  },
  {
   "cell_type": "code",
   "execution_count": null,
   "metadata": {},
   "outputs": [],
   "source": [
    "# Путь к библиотеке OpenFOAM\n",
    "!echo $WM_PROJECT_DIR\n",
    "path = !echo $WM_PROJECT_DIR\n",
    "path = path[0]"
   ]
  },
  {
   "cell_type": "code",
   "execution_count": null,
   "metadata": {},
   "outputs": [],
   "source": [
    "# Базовые классы\n",
    "!ls $path/src/OpenFOAM"
   ]
  },
  {
   "cell_type": "code",
   "execution_count": null,
   "metadata": {},
   "outputs": [],
   "source": [
    "# Контейнеры\n",
    "!ls $path/src/OpenFOAM/containers"
   ]
  },
  {
   "cell_type": "code",
   "execution_count": null,
   "metadata": {},
   "outputs": [],
   "source": [
    "# Примитивы\n",
    "!ls $path/src/OpenFOAM/primitives"
   ]
  },
  {
   "cell_type": "code",
   "execution_count": null,
   "metadata": {},
   "outputs": [],
   "source": [
    "# Интерполяция\n",
    "!ls $path/src/OpenFOAM/interpolations"
   ]
  },
  {
   "cell_type": "code",
   "execution_count": null,
   "metadata": {},
   "outputs": [],
   "source": [
    "!ls $path/src/OpenFOAM/global"
   ]
  },
  {
   "cell_type": "code",
   "execution_count": null,
   "metadata": {},
   "outputs": [],
   "source": [
    "# Матрицы\n",
    "!ls $path/src/OpenFOAM/matrices"
   ]
  },
  {
   "cell_type": "code",
   "execution_count": null,
   "metadata": {},
   "outputs": [],
   "source": [
    "# Сетки\n",
    "!ls $path/src/OpenFOAM/meshes"
   ]
  },
  {
   "cell_type": "markdown",
   "metadata": {},
   "source": [
    "## Класс Time <a name=\"Time\"></a>"
   ]
  },
  {
   "cell_type": "code",
   "execution_count": null,
   "metadata": {},
   "outputs": [],
   "source": [
    "# laplacianFoam\n",
    "!ls $WM_PROJECT_DIR/applications/solvers/basic/laplacianFoam"
   ]
  },
  {
   "cell_type": "code",
   "execution_count": null,
   "metadata": {},
   "outputs": [],
   "source": [
    "#!cat $WM_PROJECT_DIR/applications/solvers/basic/laplacianFoam/laplacianFoam.C"
   ]
  },
  {
   "cell_type": "markdown",
   "metadata": {},
   "source": [
    "```c++\n",
    "/*---------------------------------------------------------------------------*\\\n",
    "  =========                 |\n",
    "  \\\\      /  F ield         | OpenFOAM: The Open Source CFD Toolbox\n",
    "   \\\\    /   O peration     |\n",
    "    \\\\  /    A nd           | www.openfoam.com\n",
    "     \\\\/     M anipulation  |\n",
    "-------------------------------------------------------------------------------\n",
    "    Copyright (C) 2011-2017 OpenFOAM Foundation\n",
    "    Copyright (C) 2019 OpenCFD Ltd.\n",
    "-------------------------------------------------------------------------------\n",
    "License\n",
    "    This file is part of OpenFOAM.\n",
    "\n",
    "    OpenFOAM is free software: you can redistribute it and/or modify it\n",
    "    under the terms of the GNU General Public License as published by\n",
    "    the Free Software Foundation, either version 3 of the License, or\n",
    "    (at your option) any later version.\n",
    "\n",
    "    OpenFOAM is distributed in the hope that it will be useful, but WITHOUT\n",
    "    ANY WARRANTY; without even the implied warranty of MERCHANTABILITY or\n",
    "    FITNESS FOR A PARTICULAR PURPOSE.  See the GNU General Public License\n",
    "    for more details.\n",
    "\n",
    "    You should have received a copy of the GNU General Public License\n",
    "    along with OpenFOAM.  If not, see <http://www.gnu.org/licenses/>.\n",
    "\n",
    "Application\n",
    "    laplacianFoam\n",
    "\n",
    "Group\n",
    "    grpBasicSolvers\n",
    "\n",
    "Description\n",
    "    Laplace equation solver for a scalar quantity.\n",
    "\n",
    "    \\heading Solver details\n",
    "    The solver is applicable to, e.g. for thermal diffusion in a solid.  The\n",
    "    equation is given by:\n",
    "\n",
    "    \\f[\n",
    "        \\ddt{T}  = \\div \\left( D_T \\grad T \\right)\n",
    "    \\f]\n",
    "\n",
    "    Where:\n",
    "    \\vartable\n",
    "        T     | Scalar field which is solved for, e.g. temperature\n",
    "        D_T   | Diffusion coefficient\n",
    "    \\endvartable\n",
    "\n",
    "    \\heading Required fields\n",
    "    \\plaintable\n",
    "        T     | Scalar field which is solved for, e.g. temperature\n",
    "    \\endplaintable\n",
    "\n",
    "\\*---------------------------------------------------------------------------*/\n",
    "\n",
    "#include \"fvCFD.H\"\n",
    "#include \"fvOptions.H\"\n",
    "#include \"simpleControl.H\"\n",
    "\n",
    "// * * * * * * * * * * * * * * * * * * * * * * * * * * * * * * * * * * * * * //\n",
    "\n",
    "int main(int argc, char *argv[])\n",
    "{\n",
    "    argList::addNote\n",
    "    (\n",
    "        \"Laplace equation solver for a scalar quantity.\"\n",
    "    );\n",
    "\n",
    "    #include \"postProcess.H\"\n",
    "\n",
    "    #include \"addCheckCaseOptions.H\"\n",
    "    #include \"setRootCaseLists.H\"\n",
    "    #include \"createTime.H\"\n",
    "    #include \"createMesh.H\"\n",
    "\n",
    "    simpleControl simple(mesh);\n",
    "\n",
    "    #include \"createFields.H\"\n",
    "\n",
    "    // * * * * * * * * * * * * * * * * * * * * * * * * * * * * * * * * * * * //\n",
    "\n",
    "    Info<< \"\\nCalculating temperature distribution\\n\" << endl;\n",
    "\n",
    "    while (simple.loop())\n",
    "    {\n",
    "        Info<< \"Time = \" << runTime.timeName() << nl << endl;\n",
    "\n",
    "        while (simple.correctNonOrthogonal())\n",
    "        {\n",
    "            fvScalarMatrix TEqn\n",
    "            (\n",
    "                fvm::ddt(T) - fvm::laplacian(DT, T)\n",
    "             ==\n",
    "                fvOptions(T)\n",
    "            );\n",
    "\n",
    "            fvOptions.constrain(TEqn);\n",
    "            TEqn.solve();\n",
    "            fvOptions.correct(T);\n",
    "        }\n",
    "\n",
    "        #include \"write.H\"\n",
    "\n",
    "        runTime.printExecutionTime(Info);\n",
    "    }\n",
    "\n",
    "    Info<< \"End\\n\" << endl;\n",
    "\n",
    "    return 0;\n",
    "}\n",
    "\n",
    "\n",
    "// ************************************************************************* //\n",
    "```"
   ]
  },
  {
   "cell_type": "code",
   "execution_count": null,
   "metadata": {},
   "outputs": [],
   "source": [
    "#!cat $WM_PROJECT_DIR/src/OpenFOAM/include/createTime.H"
   ]
  },
  {
   "cell_type": "markdown",
   "metadata": {},
   "source": [
    "```c++\n",
    "Foam::Info<< \"Create time\\n\" << Foam::endl;\n",
    "\n",
    "Foam::Time runTime(Foam::Time::controlDictName, args);\n",
    "```"
   ]
  },
  {
   "cell_type": "markdown",
   "metadata": {},
   "source": [
    "FOAM::Time - Class to <font color='red'>control time</font> during OpenFOAM simulations that is also the top-level <font color='red'>objectRegistry</font>. (<font color='red'>cpuTime</font>)\n"
   ]
  },
  {
   "cell_type": "markdown",
   "metadata": {},
   "source": [
    "[Time](https://www.openfoam.com/documentation/guides/latest/api/classFoam_1_1Time.html) - doxygen"
   ]
  },
  {
   "cell_type": "code",
   "execution_count": null,
   "metadata": {},
   "outputs": [],
   "source": [
    "#!cat Time/Time_OF.C"
   ]
  },
  {
   "cell_type": "markdown",
   "metadata": {},
   "source": [
    "```c++\n",
    "/*---------------------------------------------------------------------------*\\\n",
    "  =========                 |\n",
    "  \\\\      /  F ield         | OpenFOAM: The Open Source CFD Toolbox\n",
    "   \\\\    /   O peration     |\n",
    "    \\\\  /    A nd           | Copyright (C) 2011-2016 OpenFOAM Foundation\n",
    "     \\\\/     M anipulation  |\n",
    "-------------------------------------------------------------------------------\n",
    "License\n",
    "    This file is part of OpenFOAM.\n",
    "\n",
    "    OpenFOAM is free software: you can redistribute it and/or modify it\n",
    "    under the terms of the GNU General Public License as published by\n",
    "    the Free Software Foundation, either version 3 of the License, or\n",
    "    (at your option) any later version.\n",
    "\n",
    "    OpenFOAM is distributed in the hope that it will be useful, but WITHOUT\n",
    "    ANY WARRANTY; without even the implied warranty of MERCHANTABILITY or\n",
    "    FITNESS FOR A PARTICULAR PURPOSE.  See the GNU General Public License\n",
    "    for more details.\n",
    "\n",
    "    You should have received a copy of the GNU General Public License\n",
    "    along with OpenFOAM.  If not, see <http://www.gnu.org/licenses/>.\n",
    "\n",
    "Application\n",
    "    Time_OF\n",
    "\n",
    "\n",
    "Description\n",
    "   Time class example OpenFOAM\n",
    "\\*---------------------------------------------------------------------------*/\n",
    "\n",
    "#include \"fvCFD.H\"\n",
    "// * * * * * * * * * * * * * * * * * * * * * * * * * * * * * * * * * * * * * //\n",
    "\n",
    "int main(int argc, char *argv[])\n",
    "{ \n",
    "argList::addNote\n",
    "    (\n",
    "        \"Time class example OpenFOAM\"\n",
    "    );\n",
    " \n",
    "#include \"setRootCase.H\" //  создается объект класса argList с именем args\n",
    "#include \"createTime.H\" // создается объект класса Time с именем runTime\n",
    "\n",
    "\n",
    "// .run - альтернатива .loop, с возможностью итерации времени по ходу цикла в любом месте\n",
    "//while(runTime.run()){\n",
    "// runTime++\n",
    " \n",
    "\n",
    " // общий цикл по времени\n",
    " // итеррируются значения времени + запускаются вспомогательные функции (например functionObjects)\n",
    " while(runTime.loop()){\n",
    "     // clock\n",
    "     // время выполнения кода\n",
    "     Info << endl << \"clock\" << endl;\n",
    "     Info << \"runTime.elapsedClockTime : \" << runTime.elapsedClockTime() << endl;\n",
    "\n",
    "     // dimensioned (размерность объекта runTime)\n",
    "     Info << endl << \"dimensioned\" << endl;\n",
    "     Info << \"runTime.dimensions() : \"<< runTime.dimensions() << endl;\n",
    "     // текущее значение\n",
    "     Info << \"runTime.value() : \"<< runTime.value() << endl;\n",
    "     // создаем новые объекты класса dimensionedScalar\n",
    "     dimensionedScalar x;\n",
    "     dimensionedScalar newTime (dimensionSet(0,0,1,0,0), 1);\n",
    "     Info << \"x : \" << x << endl;\n",
    "     Info << \"newTime : \" << newTime << endl;\n",
    "     try {\n",
    "       throw -1;\n",
    "       Info << \"runTime + x :\" << runTime + x << endl;\n",
    "     }\n",
    "     catch (int a){\n",
    "       Info << \"OOOOOps!\" << endl;\n",
    "     }\n",
    "     Info << \"runTime + newTime :\" << runTime + newTime << endl;\n",
    "\n",
    "     // TimeState\n",
    "     Info << endl << \"TimeState\"<< endl;\n",
    "     // индекс текущей итерации\n",
    "     Info << \"runTime.timeIndex() : \"<< runTime.timeIndex() << endl;\n",
    "     // шаг по времени на текущей итерации (физическое время задачи)\n",
    "     Info << \"runTime.deltaT() : \"<< runTime.deltaT() << endl;\n",
    "     // шаг по времени на предведущей итерации (физическое время задачи)\n",
    "     Info << \"runTime.deltaT0() : \"<< runTime.deltaT0() << endl;\n",
    "     Info << \"runTime.timeOutputValue() : \"<< runTime.timeOutputValue() << endl;\n",
    "\n",
    "     // TimePaths\n",
    "     // Класс Time очень важный, от него наследуются многие другие классы (в том числе сетка и поля, которые зависят от времени)\n",
    "     // Данные изменяемые со временем хранятся в папка, информация о пути которых содержится в самом классе Time\n",
    "     // Есть методы для работы с путями\n",
    "     Info << endl << \"TimePaths\"<< endl;\n",
    "     Info << \"runTime.times() : \"<< runTime.times() << endl;\n",
    "     if (runTime.value() != 0 and runTime.value() != runTime.deltaTValue())\n",
    "       Info << \"runTime.findClosestTime(2) : \"<< runTime.findClosestTime(2) << endl;\n",
    "     \n",
    "     runTime.write();\n",
    "     runTime.printExecutionTime(Info);\n",
    "     sleep(runTime.deltaTValue());\n",
    "   }\n",
    "\n",
    " // Time\n",
    " // Глобальные настройки расчета, которые содержатся в system/controlDict\n",
    " Info << endl << \"Time\" << endl;\n",
    " // Начальное время для расчета (папка с объектами)\n",
    " Info << \"runTime.startTime() : \"<< runTime.startTime() << endl;\n",
    " // Время окончания расчета\n",
    " Info << \"runTime.endTime() : \"<< runTime.endTime() << endl;\n",
    " // опция окончания расчета\n",
    " Info << \"runTime.stopAt() : \"<< runTime.stopAt() << endl;\n",
    " // опция адаптивного шага по времени\n",
    " Info << \"runTime.isAdjustTimeStep() : \"<< runTime.isAdjustTimeStep() << endl;\n",
    " // дополнительные динамические библиотеки\n",
    " Info << \"runTime.libs() : \"<< runTime.libs() << endl;\n",
    "\n",
    " // objectRegistry\n",
    " // Класс Time наследуется от класса objectRegistry, который позволяет иметь доступ к другим объектам\n",
    " // Иногда таким образом устроен интерфейс передачи данных внутри библиотек\n",
    " Info << endl << \"objectRegistry\" << endl;\n",
    " if (runTime.found(\"p\"))\n",
    "   volScalarField& p = runTime.lookupObjectRef<volScalarField>(\"p\");\n",
    " else\n",
    "   Info <<\"no object with name p\" <<endl;\n",
    "   \n",
    " // IOobject\n",
    " \n",
    "    return 0;\n",
    "}\n",
    "\n",
    "\n",
    "// ************************************************************************* //\n",
    "```"
   ]
  },
  {
   "cell_type": "code",
   "execution_count": null,
   "metadata": {},
   "outputs": [],
   "source": [
    "import os\n",
    "os.environ['FOAM_USER_APPBIN'] = os.environ['FOAM_APPBIN'].replace(\"user1\", os.environ['USER'])\n",
    "#os.environ['FOAM_USER_APPBIN']\n",
    "os.environ['PATH']=os.environ['PATH']+\":\"+os.environ['FOAM_USER_APPBIN']\n",
    "#os.environ['PATH']\n",
    "os.environ['FOAM_USER_LIBBIN'] = os.environ['FOAM_LIBBIN'].replace(\"user1\", os.environ['USER'])\n",
    "#os.environ['FOAM_USER_LIBBIN']"
   ]
  },
  {
   "cell_type": "code",
   "execution_count": null,
   "metadata": {},
   "outputs": [],
   "source": [
    "cd .."
   ]
  },
  {
   "cell_type": "code",
   "execution_count": null,
   "metadata": {},
   "outputs": [],
   "source": [
    "!wclean Time/\n",
    "!wmake Time/"
   ]
  },
  {
   "cell_type": "code",
   "execution_count": null,
   "metadata": {},
   "outputs": [],
   "source": [
    "!Time_OF"
   ]
  },
  {
   "cell_type": "code",
   "execution_count": null,
   "metadata": {},
   "outputs": [],
   "source": [
    "!rm -r Time/test/3/\n",
    "!rm -r Time/test/1.5/\n",
    "!ls Time/test"
   ]
  },
  {
   "cell_type": "code",
   "execution_count": null,
   "metadata": {},
   "outputs": [],
   "source": [
    "!ls Time/test/system"
   ]
  },
  {
   "cell_type": "code",
   "execution_count": null,
   "metadata": {},
   "outputs": [],
   "source": [
    "#!cat Time/test/system/controlDict"
   ]
  },
  {
   "cell_type": "markdown",
   "metadata": {},
   "source": [
    "```c++\n",
    "/*--------------------------------*- C++ -*----------------------------------*\\\n",
    "| =========                 |                                                 |\n",
    "| \\\\      /  F ield         | OpenFOAM: The Open Source CFD Toolbox           |\n",
    "|  \\\\    /   O peration     | Version:  v2012                                 |\n",
    "|   \\\\  /    A nd           | Website:  www.openfoam.com                      |\n",
    "|    \\\\/     M anipulation  |                                                 |\n",
    "\\*---------------------------------------------------------------------------*/\n",
    "FoamFile\n",
    "{\n",
    "    version     2.0;\n",
    "    format      ascii;\n",
    "    class       dictionary;\n",
    "    location    \"system\";\n",
    "    object      controlDict;\n",
    "}\n",
    "// * * * * * * * * * * * * * * * * * * * * * * * * * * * * * * * * * * * * * //\n",
    "\n",
    "startFrom       startTime; //latestTime;\n",
    "\n",
    "startTime       0;\n",
    "\n",
    "stopAt          endTime;\n",
    "\n",
    "endTime         3;\n",
    "\n",
    "deltaT          1.5;\n",
    "\n",
    "writeControl    runTime;\n",
    "\n",
    "writeInterval   $deltaT;\n",
    "\n",
    "purgeWrite      0;\n",
    "\n",
    "writeFormat     ascii;\n",
    "\n",
    "writePrecision  16;\n",
    "\n",
    "writeCompression off;\n",
    "\n",
    "timeFormat      general;\n",
    "\n",
    "timePrecision   16;\n",
    "\n",
    "runTimeModifiable true;\n",
    "\n",
    "\n",
    "// ************************************************************************* //\n",
    "```"
   ]
  },
  {
   "cell_type": "code",
   "execution_count": null,
   "metadata": {},
   "outputs": [],
   "source": [
    "!Time_OF -case Time/test/"
   ]
  },
  {
   "cell_type": "code",
   "execution_count": null,
   "metadata": {},
   "outputs": [],
   "source": [
    "!Time_OF -case Time/test/"
   ]
  },
  {
   "cell_type": "code",
   "execution_count": null,
   "metadata": {},
   "outputs": [],
   "source": [
    "ls Time/test/"
   ]
  },
  {
   "cell_type": "code",
   "execution_count": null,
   "metadata": {},
   "outputs": [],
   "source": [
    "ls Time/test/3"
   ]
  },
  {
   "cell_type": "code",
   "execution_count": null,
   "metadata": {},
   "outputs": [],
   "source": [
    "ls Time/test/3/uniform/"
   ]
  },
  {
   "cell_type": "code",
   "execution_count": null,
   "metadata": {},
   "outputs": [],
   "source": [
    "!cat Time/test/3/uniform/time"
   ]
  },
  {
   "cell_type": "markdown",
   "metadata": {},
   "source": [
    "## Формат сетки OpenFOAM <a name=\"mesh\"></a>"
   ]
  },
  {
   "cell_type": "markdown",
   "metadata": {},
   "source": [
    "[Wolfdynamics](../books/wd_mesh.pdf) p. 12 Структурированные vs Неструктурированные сетки\n",
    "\n",
    "[CFD_OF](../books/darwish.pdf) p. 200 (175)\n",
    "\n",
    "[UserGuide](../books/OFug.pdf) p.139\n"
   ]
  },
  {
   "cell_type": "code",
   "execution_count": null,
   "metadata": {},
   "outputs": [],
   "source": [
    "ls Simple_mesh/"
   ]
  },
  {
   "cell_type": "markdown",
   "metadata": {},
   "source": [
    "Узел (point, vertex) - точка сетки с координатами (x,y,z)\n",
    "\n",
    "Ребро (edge) - пара узлов\n",
    "\n",
    "Грань (face) - список узлов (больше 2х)\n",
    "\n",
    "Ячейка (cell) - список граней (больше 3х)\n",
    "\n",
    "<img src=\"Simple_mesh/points.png\" width=\"500\" >\n",
    "\n",
    "<img src=\"Simple_mesh/simple_mesh_wireframe.png\" width=\"500\" >\n",
    "\n",
    "<img src=\"Simple_mesh/simple_mesh.png\" width=\"500\" >"
   ]
  },
  {
   "cell_type": "code",
   "execution_count": null,
   "metadata": {},
   "outputs": [],
   "source": [
    "#!cat Simple_mesh/system/blockMeshDict"
   ]
  },
  {
   "cell_type": "markdown",
   "metadata": {},
   "source": [
    "```c++\n",
    "scale   1;\n",
    "\n",
    "vertices\n",
    "(\n",
    "    (0 0 0)\n",
    "    (2 0 0)\n",
    "    (2 1 0)\n",
    "    (0 1 0)\n",
    "    (0 0 1)\n",
    "    (2 0 1)\n",
    "    (2 1 1)\n",
    "    (0 1 1)\n",
    ");\n",
    "\n",
    "blocks\n",
    "(\n",
    "    hex (0 1 2 3 4 5 6 7) (2 1 1) simpleGrading (1 1 1)\n",
    ");\n",
    "```\n"
   ]
  },
  {
   "cell_type": "code",
   "execution_count": null,
   "metadata": {},
   "outputs": [],
   "source": [
    "!ls Simple_mesh/constant/polyMesh # OpenFOAM mesh\n",
    "# points - список узлов\n",
    "# faces - список граней\n",
    "# owner - список владельцев\n",
    "# neighbour - список соседей\n",
    "# boundary - описание границы"
   ]
  },
  {
   "cell_type": "code",
   "execution_count": null,
   "metadata": {},
   "outputs": [],
   "source": [
    "#!cat Simple_mesh/constant/polyMesh/points # список узлов (точек)"
   ]
  },
  {
   "cell_type": "markdown",
   "metadata": {},
   "source": [
    "```c++\n",
    "/*--------------------------------*- C++ -*----------------------------------*\\\n",
    "| =========                 |                                                 |\n",
    "| \\\\      /  F ield         | OpenFOAM: The Open Source CFD Toolbox           |\n",
    "|  \\\\    /   O peration     | Version:  v2012                                 |\n",
    "|   \\\\  /    A nd           | Website:  www.openfoam.com                      |\n",
    "|    \\\\/     M anipulation  |                                                 |\n",
    "\\*---------------------------------------------------------------------------*/\n",
    "FoamFile\n",
    "{\n",
    "    version     2.0;\n",
    "    format      ascii;\n",
    "    class       vectorField;\n",
    "    location    \"constant/polyMesh\";\n",
    "    object      points;\n",
    "}\n",
    "// * * * * * * * * * * * * * * * * * * * * * * * * * * * * * * * * * * * * * //\n",
    "\n",
    "\n",
    "12 // список из 12 элементов\n",
    "(\n",
    "(0 0 0) // 0 x,y,z координаты точки\n",
    "(1 0 0) // 1\n",
    "(2 0 0) // 2\n",
    "(0 1 0) // 3\n",
    "(1 1 0) // 4\n",
    "(2 1 0) // 5\n",
    "(0 0 1) // 6\n",
    "(1 0 1) // 7\n",
    "(2 0 1) // 8\n",
    "(0 1 1) // 9\n",
    "(1 1 1) // 10\n",
    "(2 1 1) // 11\n",
    ")\n",
    "```\n",
    "<img src=\"Simple_mesh/points.png\" width=\"500\">"
   ]
  },
  {
   "cell_type": "code",
   "execution_count": null,
   "metadata": {},
   "outputs": [],
   "source": [
    "#!cat Simple_mesh/constant/polyMesh/faces # список граней"
   ]
  },
  {
   "cell_type": "markdown",
   "metadata": {},
   "source": [
    "```c++\n",
    "/*--------------------------------*- C++ -*----------------------------------*\\\n",
    "| =========                 |                                                 |\n",
    "| \\\\      /  F ield         | OpenFOAM: The Open Source CFD Toolbox           |\n",
    "|  \\\\    /   O peration     | Version:  v2012                                 |\n",
    "|   \\\\  /    A nd           | Website:  www.openfoam.com                      |\n",
    "|    \\\\/     M anipulation  |                                                 |\n",
    "\\*---------------------------------------------------------------------------*/\n",
    "FoamFile\n",
    "{\n",
    "    version     2.0;\n",
    "    format      ascii;\n",
    "    class       faceList;\n",
    "    location    \"constant/polyMesh\";\n",
    "    object      faces;\n",
    "}\n",
    "// * * * * * * * * * * * * * * * * * * * * * * * * * * * * * * * * * * * * * //\n",
    "\n",
    "\n",
    "11 // список из 11 элементов\n",
    "(\n",
    "4(1 4 10 7) // массив точек (номера из points)\n",
    "4(3 9 10 4)\n",
    "4(4 10 11 5)\n",
    "4(0 6 9 3)\n",
    "4(2 5 11 8)\n",
    "4(0 1 7 6)\n",
    "4(1 2 8 7)\n",
    "4(0 3 4 1)\n",
    "4(1 4 5 2)\n",
    "4(6 7 10 9)\n",
    "4(7 8 11 10)\n",
    ")\n",
    "\n",
    "\n",
    "// ************************************************************************* //\n",
    "```\n",
    "\n",
    "у каждой грани всегда <font color='red'>2</font> стороны!\n",
    "\n",
    "одной стороне соответствует ячейка владельца (<font color='blue'>owner</font>)\n",
    "\n",
    "другой стороне соответствует ячейка соседа (<font color='red'>neighbour</font>)\n",
    "\n",
    "<img src=\"Simple_mesh/simple_mesh.png\" width=\"500\">"
   ]
  },
  {
   "cell_type": "code",
   "execution_count": null,
   "metadata": {},
   "outputs": [],
   "source": [
    "#!cat Simple_mesh/constant/polyMesh/owner # список номеров ячеек владельцев"
   ]
  },
  {
   "cell_type": "markdown",
   "metadata": {},
   "source": [
    "```c++\n",
    "/*--------------------------------*- C++ -*----------------------------------*\\\n",
    "| =========                 |                                                 |\n",
    "| \\\\      /  F ield         | OpenFOAM: The Open Source CFD Toolbox           |\n",
    "|  \\\\    /   O peration     | Version:  v2012                                 |\n",
    "|   \\\\  /    A nd           | Website:  www.openfoam.com                      |\n",
    "|    \\\\/     M anipulation  |                                                 |\n",
    "\\*---------------------------------------------------------------------------*/\n",
    "FoamFile\n",
    "{\n",
    "    version     2.0;\n",
    "    format      ascii;\n",
    "    class       labelList;\n",
    "    note        \"nPoints:12  nCells:2  nFaces:11  nInternalFaces:1\";\n",
    "    location    \"constant/polyMesh\";\n",
    "    object      owner;\n",
    "}\n",
    "// * * * * * * * * * * * * * * * * * * * * * * * * * * * * * * * * * * * * * //\n",
    "\n",
    "\n",
    "11 // массив из 11 элементов\n",
    "(\n",
    "0 // номер ячейки владельца (owner) для грани 0 (из faces)\n",
    "0 // номер ячейки владельца (owner) для грани 1 (из faces)\n",
    "1 // номер ячейки владельца (owner) для грани 2 (из faces)\n",
    "0\n",
    "1\n",
    "0\n",
    "1\n",
    "0\n",
    "1\n",
    "0\n",
    "1\n",
    ")\n",
    "\n",
    "\n",
    "// ************************************************************************* //\n",
    "```\n",
    "<img src=\"Simple_mesh/simple_mesh_wireframe.png\" width=\"500\">"
   ]
  },
  {
   "cell_type": "code",
   "execution_count": null,
   "metadata": {},
   "outputs": [],
   "source": [
    "#!cat Simple_mesh/constant/polyMesh/neighbour # список соседей"
   ]
  },
  {
   "cell_type": "markdown",
   "metadata": {},
   "source": [
    "```c++\n",
    "/*--------------------------------*- C++ -*----------------------------------*\\\n",
    "| =========                 |                                                 |\n",
    "| \\\\      /  F ield         | OpenFOAM: The Open Source CFD Toolbox           |\n",
    "|  \\\\    /   O peration     | Version:  v2012                                 |\n",
    "|   \\\\  /    A nd           | Website:  www.openfoam.com                      |\n",
    "|    \\\\/     M anipulation  |                                                 |\n",
    "\\*---------------------------------------------------------------------------*/\n",
    "FoamFile\n",
    "{\n",
    "    version     2.0;\n",
    "    format      ascii;\n",
    "    class       labelList;\n",
    "    note        \"nPoints:12  nCells:2  nFaces:11  nInternalFaces:1\";\n",
    "    location    \"constant/polyMesh\";\n",
    "    object      neighbour;\n",
    "}\n",
    "// * * * * * * * * * * * * * * * * * * * * * * * * * * * * * * * * * * * * * //\n",
    "\n",
    "1 // список из 1го элемента\n",
    "(\n",
    "1 // номер ячейки соседа (neighbour) для грани 0 (из faces)\n",
    ")\n",
    "    \n",
    "```\n",
    "<img src=\"Simple_mesh/simple_mesh_wireframe.png\" width=\"500\">"
   ]
  },
  {
   "cell_type": "code",
   "execution_count": null,
   "metadata": {},
   "outputs": [],
   "source": [
    "#!cat Simple_mesh/constant/polyMesh/boundary # описание границы"
   ]
  },
  {
   "cell_type": "markdown",
   "metadata": {},
   "source": [
    "```c++\n",
    "/*--------------------------------*- C++ -*----------------------------------*\\\n",
    "| =========                 |                                                 |\n",
    "| \\\\      /  F ield         | OpenFOAM: The Open Source CFD Toolbox           |\n",
    "|  \\\\    /   O peration     | Version:  v2012                                 |\n",
    "|   \\\\  /    A nd           | Website:  www.openfoam.com                      |\n",
    "|    \\\\/     M anipulation  |                                                 |\n",
    "\\*---------------------------------------------------------------------------*/\n",
    "FoamFile\n",
    "{\n",
    "    version     2.0;\n",
    "    format      ascii;\n",
    "    class       polyBoundaryMesh;\n",
    "    location    \"constant/polyMesh\";\n",
    "    object      boundary;\n",
    "}\n",
    "// * * * * * * * * * * * * * * * * * * * * * * * * * * * * * * * * * * * * * //\n",
    "\n",
    "3 // список из 3 элементов\n",
    "(\n",
    "    movingWall // название границы (patch - массив граней)\n",
    "    {\n",
    "        type            wall; // тип границы\n",
    "        inGroups        1(wall);\n",
    "        nFaces          2; // кол-во граней в массиве\n",
    "        startFace       1; // стартовый номер грани\n",
    "    }\n",
    "    fixedWalls\n",
    "    {\n",
    "        type            wall;\n",
    "        inGroups        1(wall);\n",
    "        nFaces          4;\n",
    "        startFace       3;\n",
    "    }\n",
    "    frontAndBack\n",
    "    {\n",
    "        type            empty;\n",
    "        inGroups        1(empty);\n",
    "        nFaces          4;\n",
    "        startFace       7;\n",
    "    }\n",
    ")\n",
    "\n",
    "// ************************************************************************* //\n",
    "```"
   ]
  },
  {
   "cell_type": "markdown",
   "metadata": {},
   "source": [
    "## Заключение <a name=\"finish\"></a>"
   ]
  },
  {
   "cell_type": "markdown",
   "metadata": {},
   "source": [
    "[Познакомились с работой на вычислительном кластере](#slurm)\n",
    "\n",
    "[Познакомились с базовыми примитивами OpenFOAM](#Interpolation)\n",
    "\n",
    "[Узнали, что примитивов даже больше чем нужно](#src/OpenFOAM)\n",
    "\n",
    "[Узнали про класс Time](#Time)\n",
    "\n",
    "[Рассмотрели формат сетки OpenFOAM](#mesh)"
   ]
  },
  {
   "cell_type": "markdown",
   "metadata": {},
   "source": [
    "## В следующей серии ..."
   ]
  },
  {
   "cell_type": "markdown",
   "metadata": {},
   "source": [
    "Конечнообъемная Сетка, поля и динамические сетки!\n",
    "\n",
    "<img src=\"img/mesh.jpeg\" width=\"400\">\n",
    "<img src=\"img/field.jpg\" width=\"400\">\n",
    "<img src=\"img/dynamic_mesh.jpg\" width=\"400\">\n"
   ]
  },
  {
   "cell_type": "markdown",
   "metadata": {},
   "source": []
  }
 ],
 "metadata": {
  "kernelspec": {
   "display_name": "Python 3.8.10 64-bit",
   "language": "python",
   "name": "python3"
  },
  "language_info": {
   "codemirror_mode": {
    "name": "ipython",
    "version": 3
   },
   "file_extension": ".py",
   "mimetype": "text/x-python",
   "name": "python",
   "nbconvert_exporter": "python",
   "pygments_lexer": "ipython3",
   "version": "3.10.12"
  },
  "vscode": {
   "interpreter": {
    "hash": "916dbcbb3f70747c44a77c7bcd40155683ae19c65e1c03b4aa3499c5328201f1"
   }
  }
 },
 "nbformat": 4,
 "nbformat_minor": 4
}
