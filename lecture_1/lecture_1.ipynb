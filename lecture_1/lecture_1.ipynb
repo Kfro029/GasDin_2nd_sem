{
 "cells": [
  {
   "cell_type": "markdown",
   "metadata": {},
   "source": [
    "Курашов Владимир Викторович (vladimir.kurashov@phystech.edu)"
   ]
  },
  {
   "cell_type": "markdown",
   "metadata": {},
   "source": [
    "# Лекция №1"
   ]
  },
  {
   "cell_type": "markdown",
   "metadata": {},
   "source": [
    "## План\n",
    "0. [Формат](#format)\n",
    "1. [О чем курс?](#what)\n",
    "2. [Для кого?](#who)\n",
    "3. [Литература + ПО?](#lib_soft)\n",
    "4. [Ansys vs OpenFOAM. Кто твой БРО?](#avso)\n",
    "5. [Что такое OpenFOAM?](#OpenFOAM_w)\n",
    "6. [Hello world!](#hello)\n",
    "7. [Doxygen](#Doxygen)\n",
    "8. [Контейнеры](#Containers)\n",
    "9. [Примеры простых программ](#tests)"
   ]
  },
  {
   "cell_type": "markdown",
   "metadata": {},
   "source": [
    "## Формат <a name=\"format\"></a>\n",
    "\n",
    "Оценки:\n",
    "\n",
    "* 2 задания (по 2 балла за каждое), в середине и конце семестра \n",
    "* Экзамен (6 баллов)\n",
    "\n",
    "1е и 2е задание - 2 вопроса (1 по тексту программы, 1 по расчету), с каждой неделей кол-во вопросов удваивается (4,8,16)\n",
    "\n",
    "Лекции в виде jupyter notebook, только в качестве конспекта (лекционный материал + последовательность команд)!\n",
    "\n",
    "Есть материалы [2021](https://disk.yandex.ru/d/JojjUsdTY15lOw), [2022](https://disk.yandex.ru/d/ZGVRsElRe3juwQ) и [2023](https://disk.yandex.ru/d/VgtbwUYp70ViaA) года с видео. В этом году материалы будут дополняться.\n",
    "\n",
    "Постараюсь записывать видео лекций.\n",
    "\n",
    "Вся информация в группе телеграмм\n",
    "\n",
    "Для доступа к кластеру МФТИ и учебному серверу нужно отправить Контакты по почте."
   ]
  },
  {
   "cell_type": "markdown",
   "metadata": {},
   "source": [
    "## О чем курс? <a name=\"what\"></a>"
   ]
  },
  {
   "cell_type": "markdown",
   "metadata": {},
   "source": [
    "### Газодинамика высокоскоростных летательных аппаратов. (OpenFOAM)\n",
    "В этом году больше программирования и OpenFOAM!\n",
    "\n",
    "<img src=\"img/cfd.jpeg\" width=\"300\" >\n",
    "\n",
    "### CFD\n",
    "К концу курса будет понятно как изнутри работает любая программа по расчету течения жидкости или газа! Fluent, FlowVision, StarCCM, Логос ...\n",
    "\n",
    "<img src=\"img/cfd_.jpeg\" width=\"300\" >\n",
    "\n",
    "### OpenFOAM\n",
    "Много OpenFOAM. Не только метод контрольного объема, но и вспомогательные библиотеки!\n",
    "\n",
    "<img src=\"img/OpenFOAM.jpeg\" width=\"300\">\n",
    "\n",
    "### C++\n",
    "Много C++. Два задания - собственные солверы! Солверы маленькие и простые.\n",
    "\n",
    "<img src=\"img/cpp.png\" width=\"300\" >\n",
    "\n",
    "***\n",
    "\n",
    "### Разделы\n",
    "(От простого к сложному)\n",
    "1. Основы OpenFOAM (базовые классы)\n",
    "2. Метод контрольного объема.\n",
    "3. Обзор физических библиотек и готовых солверов OpenFOAM.\n",
    "\n",
    "### Темы лекций\n",
    "\n",
    "[Темы лекций (content.ipynb)](../content.ipynb)\n"
   ]
  },
  {
   "cell_type": "markdown",
   "metadata": {},
   "source": [
    "## Для кого? <a name=\"who\"></a>"
   ]
  },
  {
   "cell_type": "markdown",
   "metadata": {},
   "source": [
    "<em>Кто неравнодушен к Навье и особенно к Стоксу, не боится C++, знает формулировку теоремы Лакса-Рябенького!</em>\n",
    "\n",
    "<img src=\"img/mask_roadster.jpeg\" width=\"500\">"
   ]
  },
  {
   "cell_type": "markdown",
   "metadata": {},
   "source": [
    "## Литература + ПО <a name=\"lib_soft\"></a>"
   ]
  },
  {
   "cell_type": "markdown",
   "metadata": {},
   "source": [
    "[Литература](../books/)\n",
    "\n",
    "| Название       | о чем?           | \n",
    "| ------------- |:-------------:| \n",
    "|[Численные методы решения задач теплообмена и динамики жидкости. Патанкар.      ](../books/patankar.pdf) | основы CFD, метод контрольного объема |  \n",
    "|[Moukalled,Mangani,Darwish The FV Method in CFD. An Advanced Introduction with OpenFOAM and Matlab 2015](../books/darwish.pdf)| Метод контрольного объема, OpenFOAM|\n",
    "|[OpenFOAMUserGuide-A4](../books/OFug.pdf)| Основы OpenFOAM база|\n",
    "|[ProgrammersGuide](../books/OFpg.pdf)| Основы OpenFOAM программирование|\n",
    "|[Blazek CFD - Principles and Applications 2015](../books/blazek.pdf)| CFD для задач высокоскоростной газодинамики|\n",
    "|[Газодинамика](https://www.youtube.com/watch?v=g_Ne4Iw9j_I&list=PLHOMZXOczEYP16abYQPGZ4wd4IlxPz-CF)| Youtube курс по газодинамике ФАЛТ, ЦАГИ|\n",
    "|[Hypersonic and high-temperature gas dynamics - John David Anderson](../books/anderson_hyp.pdf)| Аэрогазодинамики высокоскоростных летательных аппаратов|\n",
    "|[John-d-anderson-jr-fundamentals-of-aerodynamics](../books/anderson_aero.pdf)| Аэродинамика|\n",
    "|[Лунев В.В. Течение реальных газов с большими скоростями](../books/lunev.djvu)| Аэрогазодинамика высокоскоростных течений|\n",
    "|[Toro-EF-Riemann-Solvers-and-Numerical-Methods-for-Fluid-Dynamics](../books/toro.pdf)| Численные методы решения гиперболических систем уравнений|\n",
    "|[Fluid Mechanics 101](https://www.youtube.com/channel/UCcqQi9LT0ETkRoUu8eYaEkg)| Youtube канал про CFD, очень понятным языком|\n",
    "|[Wolfdynamics](http://www.wolfdynamics.com/)| Отличные материалы (слайды, туториал) по OpenFOAM|\n",
    "|[OpenFOAM workshops](https://openfoamworkshop.org/)| Ежегодные конференции по OpenFOAM|\n",
    "|[OpenFOAM doxygen](https://www.openfoam.com/documentation/guides/latest/doc/)| Комментарии к коду OpenFOAM|\n",
    "\n",
    "***\n",
    "\n",
    "Софт\n",
    "\n",
    "[OpenFOAM-v2106 или выше](https://www.openfoam.com/news/main-news/openfoam-v2106)\n",
    "\n",
    "[Установка OpenFOAM ubuntu](https://develop.openfoam.com/Development/openfoam/-/wikis/precompiled/debian)\n",
    "\n",
    "[Docker OpenFOAM](https://develop.openfoam.com/Development/openfoam/-/wikis/precompiled/docker)\n",
    "\n",
    "[Salome](https://www.salome-platform.org/)\n",
    "\n",
    "[Paraview](https://www.paraview.org/)\n",
    "\n",
    "[VScode](https://code.visualstudio.com/)\n",
    "\n",
    "JupyterHub ?\n"
   ]
  },
  {
   "cell_type": "markdown",
   "metadata": {},
   "source": [
    "## Ansys <em>VS</em> OpenFOAM <a name=\"avso\"></a>"
   ]
  },
  {
   "cell_type": "markdown",
   "metadata": {},
   "source": [
    "<img src=\"img/cfd_solvers.png\" width=\"500\">\n",
    "\n",
    "<img src=\"img/ansys_vs_openfoam.png\" width=\"500\">\n",
    "\n",
    "[cfd-forum](https://www.cfd-online.com/Forums/)\n",
    "\n",
    "Кто чем пользовался?"
   ]
  },
  {
   "cell_type": "markdown",
   "metadata": {},
   "source": [
    "|| Ansys     | OpenFOAM | \n",
    "|------------- |:-------------:|:-------------:|\n",
    "|GUI| Красивый, удобный и современный интерфейс| linux и bash|\n",
    "|Документация| Подробная, профессиональная| минимум |\n",
    "|Код| Черный ящик| Открытый исходный код|\n",
    "|Сообщество|Инженеры, ученые, исследователи| ученые, исследователи, программисты|\n",
    "|Для каких задач подходит?| Стандартные, промышленные| Исследовательские|"
   ]
  },
  {
   "cell_type": "markdown",
   "metadata": {},
   "source": [
    "## Что такое OpenFOAM? <a name=\"OpenFOAM_w\"></a>"
   ]
  },
  {
   "cell_type": "markdown",
   "metadata": {},
   "source": [
    "OpenFOAM - \"Open Field Operation and Manipulation\"\n",
    "\n",
    "Библиотека для операций с полями величин.\n",
    "\n",
    "<img src=\"img/field.png\" width=\"300\">\n",
    "\n",
    "Ядро - метод контрольного объема для решений уравнений в частных производных.\n",
    "\n",
    "<img src=\"img/ns.png\" width=\"300\">\n",
    "\n",
    "И не только, много математики и физики внутри.\n",
    "\n",
    "<img src=\"img/math_phys.jpeg\" width=\"300\" >"
   ]
  },
  {
   "cell_type": "code",
   "execution_count": null,
   "metadata": {},
   "outputs": [],
   "source": [
    "# Текущая директория\n",
    "cur_dir = !pwd\n",
    "cur_dir = cur_dir[0]\n",
    "# Путь к библиотеке OpenFOAM\n",
    "!echo $WM_PROJECT_DIR\n",
    "path = !echo $WM_PROJECT_DIR\n",
    "path = path[0]"
   ]
  },
  {
   "cell_type": "code",
   "execution_count": null,
   "metadata": {},
   "outputs": [],
   "source": [
    "# Содержимое исходной папки\n",
    "%cd $path\n",
    "!ls -l\n",
    "# application - готовые солверы и программы\n",
    "# doc - Doxygen + pdf\n",
    "# etc - папка с файлами настроек окружения (компилятор, openmpi ...)\n",
    "# modules - дополнительные программы авторов, которые не вошли в основную версию\n",
    "# src - ИСХОДНЫЙ КОД БИБЛИОТЕКИ\n",
    "# tutorials - примеры работы программ\n",
    "# wmake - папка со скриптами для компиляции"
   ]
  },
  {
   "cell_type": "markdown",
   "metadata": {},
   "source": [
    "## Hello world <a name=\"hello\"></a>"
   ]
  },
  {
   "cell_type": "code",
   "execution_count": null,
   "metadata": {
    "scrolled": true
   },
   "outputs": [],
   "source": [
    "%cd $cur_dir\n",
    "%cd Hello_world/\n",
    "print(\"\\nСодержимое программы Hello world\")\n",
    "!ls -l"
   ]
  },
  {
   "cell_type": "code",
   "execution_count": null,
   "metadata": {
    "scrolled": true
   },
   "outputs": [],
   "source": [
    "#print(\"Содержимое Hello_world.C\")\n",
    "#!cat Hello_world.C"
   ]
  },
  {
   "cell_type": "markdown",
   "metadata": {},
   "source": [
    "```c++\n",
    "/*---------------------------------------------------------------------------*\\\n",
    "  =========                 |\n",
    "  \\\\      /  F ield         | OpenFOAM: The Open Source CFD Toolbox\n",
    "   \\\\    /   O peration     |\n",
    "    \\\\  /    A nd           | www.openfoam.com\n",
    "     \\\\/     M anipulation  |\n",
    "-------------------------------------------------------------------------------\n",
    "    Copyright (C) 2011 OpenFOAM Foundation\n",
    "    Copyright (C) 2018 OpenCFD Ltd.\n",
    "-------------------------------------------------------------------------------\n",
    "License\n",
    "    This file is part of OpenFOAM.\n",
    "\n",
    "    OpenFOAM is free software: you can redistribute it and/or modify it\n",
    "    under the terms of the GNU General Public License as published by\n",
    "    the Free Software Foundation, either version 3 of the License, or\n",
    "    (at your option) any later version.\n",
    "\n",
    "    OpenFOAM is distributed in the hope that it will be useful, but WITHOUT\n",
    "    ANY WARRANTY; without even the implied warranty of MERCHANTABILITY or\n",
    "    FITNESS FOR A PARTICULAR PURPOSE.  See the GNU General Public License\n",
    "    for more details.\n",
    "\n",
    "    You should have received a copy of the GNU General Public License\n",
    "    along with OpenFOAM.  If not, see <http://www.gnu.org/licenses/>.\n",
    "\n",
    "Application\n",
    "    Hello world\n",
    "\n",
    "Description\n",
    "    Simple programm\n",
    "\n",
    "\\*---------------------------------------------------------------------------*/\n",
    "\n",
    "#include \"IOstreams.H\"\n",
    "\n",
    "using namespace Foam;\n",
    "\n",
    "// * * * * * * * * * * * * * * * * * * * * * * * * * * * * * * * * * * * * * //\n",
    "\n",
    "int main(void)\n",
    "{\n",
    "  string st(\"Hello world!\"); // создаем объект класса string\n",
    "  Info<< st << endl; // выводим содержимое объекта st в стандартный вывод\n",
    "}\n",
    "\n",
    "// ************************************************************************* //\n",
    "```"
   ]
  },
  {
   "cell_type": "code",
   "execution_count": null,
   "metadata": {},
   "outputs": [],
   "source": [
    "print(\"\\nMake - папка с настройками компиляции\")\n",
    "%ls -l Make/"
   ]
  },
  {
   "cell_type": "code",
   "execution_count": null,
   "metadata": {},
   "outputs": [],
   "source": [
    "print(\"Содержимое файла files задает файлы компиляции и название исполняемого файла (EXE)\")\n",
    "!cat Make/files\n",
    "print(\"\\nСодержимое файла options задает пути к подключаемым библиотекам\")\n",
    "!cat Make/options"
   ]
  },
  {
   "cell_type": "code",
   "execution_count": null,
   "metadata": {},
   "outputs": [],
   "source": [
    "import os\n",
    "os.environ['FOAM_USER_APPBIN'] = os.environ['FOAM_APPBIN'].replace(\"user1\", os.environ['USER'])\n",
    "#os.environ['FOAM_USER_APPBIN']\n",
    "os.environ['PATH']=os.environ['PATH']+\":\"+os.environ['FOAM_USER_APPBIN']\n",
    "#os.environ['PATH']\n",
    "os.environ['FOAM_USER_LIBBIN'] = os.environ['FOAM_LIBBIN'].replace(\"user1\", os.environ['USER'])\n",
    "#os.environ['FOAM_USER_LIBBIN']"
   ]
  },
  {
   "cell_type": "code",
   "execution_count": null,
   "metadata": {},
   "outputs": [],
   "source": [
    "print(\"Чистим\")\n",
    "!ls Make/ # содержимое до\n",
    "!wclean # чистим содержимое папки linux64GccDPInt32Opt\n",
    "!ls Make/ # содержимое после\n",
    "print(\"\\nКомпилируем первую программу\")\n",
    "!wmake # компилируем программу"
   ]
  },
  {
   "cell_type": "code",
   "execution_count": null,
   "metadata": {},
   "outputs": [],
   "source": [
    "# Вызываем Hello_world_of\n",
    "!Hello_world_of"
   ]
  },
  {
   "cell_type": "markdown",
   "metadata": {},
   "source": [
    "## Doxygen <a name=\"Doxygen\"></a>"
   ]
  },
  {
   "cell_type": "markdown",
   "metadata": {},
   "source": [
    "[Doxygen](https://ru.wikipedia.org/wiki/Doxygen) — это кроссплатформенная система документирования исходных текстов, которая поддерживает C++, Си, Objective-C, Python, Java, IDL, PHP, C#, Фортран, VHDL и, частично, D."
   ]
  },
  {
   "cell_type": "markdown",
   "metadata": {},
   "source": [
    "[OpenFOAM_doxygen](https://www.openfoam.com/documentation/guides/latest/doc/) на сайте openfoam.com -> Documentation -> Extended code guide\n",
    "\n",
    "или\n",
    "\n",
    "OpenFOAM/doc/Doxygen/Allwmake - собрать локально (работает быстрее, занимает много места)"
   ]
  },
  {
   "cell_type": "markdown",
   "metadata": {},
   "source": [
    "## Контейнеры <a name=\"Containers\"></a>"
   ]
  },
  {
   "cell_type": "code",
   "execution_count": null,
   "metadata": {},
   "outputs": [],
   "source": [
    "# Containers - код программы с примерами \n",
    "# dictIn.txt, dictOut.txt - ввод и вывод из программы\n",
    "%cd $cur_dir\n",
    "!ls Containers/"
   ]
  },
  {
   "cell_type": "code",
   "execution_count": null,
   "metadata": {},
   "outputs": [],
   "source": [
    "#%cat Containers/Containers.C"
   ]
  },
  {
   "cell_type": "markdown",
   "metadata": {},
   "source": [
    "```c++\n",
    "/*---------------------------------------------------------------------------* \\\n",
    "  =========                 |\n",
    "  \\\\      /  F ield         | OpenFOAM: The Open Source CFD Toolbox\n",
    "   \\\\    /   O peration     |\n",
    "    \\\\  /    A nd           | Copyright (C) 2011-2016 OpenFOAM Foundation\n",
    "     \\\\/     M anipulation  |\n",
    "-------------------------------------------------------------------------------\n",
    "License\n",
    "    This file is part of OpenFOAM.\n",
    "\n",
    "    OpenFOAM is free software: you can redistribute it and/or modify it\n",
    "    under the terms of the GNU General Public License as published by\n",
    "    the Free Software Foundation, either version 3 of the License, or\n",
    "    (at your option) any later version.\n",
    "\n",
    "    OpenFOAM is distributed in the hope that it will be useful, but WITHOUT\n",
    "    ANY WARRANTY; without even the implied warranty of MERCHANTABILITY or\n",
    "    FITNESS FOR A PARTICULAR PURPOSE.  See the GNU General Public License\n",
    "    for more details.\n",
    "\n",
    "    You should have received a copy of the GNU General Public License\n",
    "    along with OpenFOAM.  If not, see <http://www.gnu.org/licenses/>.\n",
    "\n",
    "Application\n",
    "    Containers\n",
    "\n",
    "\n",
    "Description\n",
    "   main containers OpenFOAM\n",
    "\\*---------------------------------------------------------------------------*/\n",
    "\n",
    "// fvCFD.H - см Doxygen. Хедер для стандартного набора классов\n",
    "#include \"fvCFD.H\"\n",
    "#include \"IFstream.H\"\n",
    "// * * * * * * * * * * * * * * * * * * * * * * * * * * * * * * * * * * * * * //\n",
    "\n",
    "int main(int argc, char *argv[])\n",
    "{\n",
    "  //int double\n",
    "\n",
    "  int a = 2;\n",
    "\n",
    "  double b = 3.5;\n",
    "\n",
    "  Info << \"a = \"<< a << \" b = \" << b << endl;\n",
    "\n",
    "  //label scalar word\n",
    "\n",
    "  label x = 1; // int\n",
    "\n",
    "  scalar y = 1.5; // double\n",
    "\n",
    "  Info << \"x = \" << x << \" y = \" << y << endl;\n",
    "\n",
    "  word c = \"CFD\";\n",
    "\t\n",
    "  Info << \"c = \" << c << endl;\n",
    "\n",
    "  //List, dynamicList, dictionary\n",
    "\n",
    "  // List<type> - статический список элементов с типом type\n",
    "  List<scalar> arrayScalar(5);\n",
    "\n",
    "  //цикл по всем элементам списка arrayScalar\n",
    "\n",
    "  forAll(arrayScalar, i)\n",
    "    {\n",
    "      arrayScalar[i] = i;\n",
    "    }\n",
    "\n",
    "  Info << \"arrayScalar = \"<< arrayScalar << endl;\n",
    "\n",
    "  // DynamicList<type> - динамический список элементов с типом type\n",
    "\n",
    "  DynamicList<scalar> dynArrayScalar;\n",
    "\n",
    "  Info << \"dynArrayScalar = \" << dynArrayScalar << endl;\n",
    "\t\n",
    "  dynArrayScalar.append(1.5);\n",
    "  dynArrayScalar.append(1.6);\n",
    "  dynArrayScalar.append(1.7);\n",
    "  dynArrayScalar.append(1.8);\n",
    "\n",
    "  Info << \"dynArrayScalar = \" << dynArrayScalar << endl;\n",
    "\n",
    "  // dictionary - словарь (ключ, значение)\n",
    "\n",
    "  dictionary keyValue;\n",
    "\n",
    "  keyValue.add(\"x\", x);\n",
    "  keyValue.add(\"y\", y);\n",
    "  keyValue.add(\"c\", c);\n",
    "  keyValue.add(\"arrayScalar\", arrayScalar);\n",
    "  keyValue.add(\"dynArrayScalar\", dynArrayScalar);\n",
    "\n",
    "  Info << keyValue << endl;\n",
    "\n",
    "  Info << keyValue.lookupType<label>(\"x\")<< endl;\n",
    "\t\n",
    "  Info << keyValue[\"c\"] << endl;\n",
    "\t\n",
    "  // работа с векторами и тензорами (ProgrammersGuide p.22)\n",
    "    \n",
    "  vector U(1,2,3);\n",
    "\t\n",
    "  tensor Sigma(1,2,3,4,5,6,7,8,9);\n",
    "\t\n",
    "  Info << (U&U) << endl;\n",
    "\t\n",
    "  Info << diag(Sigma) << endl;\n",
    "    \n",
    "  // ввод и вывод данных из файла\n",
    "    \n",
    "  OFstream out (\"dictOut.txt\");\n",
    "    \n",
    "  out <<\"U \" << U << endl;\n",
    "  out <<\"dynArrayScalar \" << dynArrayScalar << endl;\n",
    "  out <<\"Sigma \" << Sigma << endl;\n",
    "  out <<\"keyValue \" << keyValue << endl;\n",
    "  out <<\"arrayScalar \" << arrayScalar << endl;\n",
    "  out <<\"a \" << a << endl;\n",
    "  out <<\"b \" << b << endl;\n",
    "  out <<\"c \" << c << endl;\n",
    "    \n",
    "  IFstream in (\"dictIn.txt\");\n",
    "    \n",
    "  dictionary dictIn (in);\n",
    "    \n",
    "  Info << dictIn << endl;\n",
    "    \n",
    "  List<scalar> t (dictIn.lookup(\"t\"));\n",
    "    \n",
    "  Info << t << endl;\n",
    "    \n",
    "  //     Info << in << endl;\n",
    "\n",
    "  return 0;\n",
    "}\n",
    "\n",
    "// ************************************************************************* //\n",
    "```"
   ]
  },
  {
   "cell_type": "markdown",
   "metadata": {},
   "source": [
    "[ProgrammerGuide](../books/OFpg.pdf)"
   ]
  },
  {
   "cell_type": "code",
   "execution_count": null,
   "metadata": {},
   "outputs": [],
   "source": [
    "!cat Containers/Make/files"
   ]
  },
  {
   "cell_type": "code",
   "execution_count": null,
   "metadata": {},
   "outputs": [],
   "source": [
    "# EXE_INC - пути к *.H файлам используемых библиотек\n",
    "# EXE_LIBS - короткие названия OpenFOAM динамических бибилотек\n",
    "# lfiniteVolume = libfiniteVolume.so\n",
    "!cat Containers/Make/options"
   ]
  },
  {
   "cell_type": "code",
   "execution_count": null,
   "metadata": {},
   "outputs": [],
   "source": [
    "# FOAM_APPBIN - путь к исполняемым файлам OpenFOAM (права только на чтение)\n",
    "app_path = !echo $FOAM_APPBIN\n",
    "app_path = app_path[0]\n",
    "print(app_path)\n",
    "!ls $app_path"
   ]
  },
  {
   "cell_type": "code",
   "execution_count": null,
   "metadata": {},
   "outputs": [],
   "source": [
    "# FOAM_USER_APPBIN - путь к исполняемым файлам OpenFOAM \n",
    "# права на чтение и запись\n",
    "user_app_path = !echo $FOAM_USER_APPBIN\n",
    "user_app_path = user_app_path[0]\n",
    "print(user_app_path)\n",
    "!ls $user_app_path"
   ]
  },
  {
   "cell_type": "code",
   "execution_count": null,
   "metadata": {},
   "outputs": [],
   "source": [
    "# FOAM_LIBBIN - путь к динамическим библиотекам (*.so) OpenFOAM (обычно есть права только на чтение!)\n",
    "lib_path = !echo $FOAM_LIBBIN\n",
    "lib_path = lib_path[0]\n",
    "print(lib_path)\n",
    "!ls $lib_path"
   ]
  },
  {
   "cell_type": "code",
   "execution_count": null,
   "metadata": {},
   "outputs": [],
   "source": [
    "# FOAM_USER_LIBBIN - путь к динамическим библиотекам (*.so) OpenFOAM текущего пользователя\n",
    "# (права на чтение и на запись)\n",
    "user_lib_path = !echo $FOAM_USER_LIBBIN\n",
    "user_lib_path = user_lib_path[0]\n",
    "print(user_lib_path)\n",
    "!ls $user_lib_path"
   ]
  },
  {
   "cell_type": "code",
   "execution_count": null,
   "metadata": {},
   "outputs": [],
   "source": [
    "#!cat Containers/dictIn.txt"
   ]
  },
  {
   "cell_type": "markdown",
   "metadata": {},
   "source": [
    "dictIn.txt:\n",
    "```c++\n",
    "t     (0 2 4 100);\n",
    "h     (1 10 1 1000);\n",
    "U     (2000 3000 2000 5000);\n",
    "alpha (0 20 0 40);\n",
    "beta  (0 20 0 40);\n",
    "```"
   ]
  },
  {
   "cell_type": "code",
   "execution_count": null,
   "metadata": {},
   "outputs": [],
   "source": [
    "#!cat Containers/dictOut.txt"
   ]
  },
  {
   "cell_type": "markdown",
   "metadata": {},
   "source": [
    "dictOut.txt:\n",
    "```c++\n",
    "U (1 2 3)\n",
    "dynArrayScalar 4(1.5 1.6 1.7 1.8)\n",
    "Sigma (1 2 3 4 5 6 7 8 9)\n",
    "keyValue \n",
    "{\n",
    "    x               1;\n",
    "    y               1.5;\n",
    "    c               CFD;\n",
    "    arrayScalar     5 ( 0 1 2 3 4 );\n",
    "    dynArrayScalar  4 ( 1.5 1.6 1.7 1.8 );\n",
    "}\n",
    "\n",
    "arrayScalar 5(0 1 2 3 4)\n",
    "a 2\n",
    "b 3.5\n",
    "c CFD\n",
    "```"
   ]
  },
  {
   "cell_type": "code",
   "execution_count": null,
   "metadata": {},
   "outputs": [],
   "source": [
    "%cd Containers/"
   ]
  },
  {
   "cell_type": "code",
   "execution_count": null,
   "metadata": {},
   "outputs": [],
   "source": [
    "# чистим и компилируем\n",
    "!wclean\n",
    "!wmake"
   ]
  },
  {
   "cell_type": "code",
   "execution_count": null,
   "metadata": {},
   "outputs": [],
   "source": [
    "# Запускаем исполныемый файл\n",
    "!Containers"
   ]
  },
  {
   "cell_type": "markdown",
   "metadata": {},
   "source": [
    "## Примеры простых программ <a name=\"tests\"></a>"
   ]
  },
  {
   "cell_type": "code",
   "execution_count": null,
   "metadata": {},
   "outputs": [],
   "source": [
    "# Путь к библиотеке OpenFOAM\n",
    "%cd $path/applications/test"
   ]
  },
  {
   "cell_type": "code",
   "execution_count": null,
   "metadata": {},
   "outputs": [],
   "source": [
    "ls"
   ]
  },
  {
   "cell_type": "markdown",
   "metadata": {},
   "source": [
    "### Для самостоятельной работы"
   ]
  },
  {
   "cell_type": "markdown",
   "metadata": {},
   "source": [
    "| Название       | о чем?           | \n",
    "| ------------- |:-------------:| \n",
    "|argList| Использование опций при вызове программы |  \n",
    "|CompactIOList| Ввод-вывод списков|\n",
    "|CodeStream |Использование кода в словарях|\n",
    "|Dictionary| Работа со словарями|\n",
    "|DirLister| Работа с директориями и файлами|\n",
    "|DynamicList| Работа с динамическим списком|\n",
    "|Error| Работа с ошибками|\n",
    "|FieldMapping | Пример работы с интерполяцией полей, изменением сетки (удаление ячеек)|\n",
    "|FileName | Работа с объектом класса fileName (имена файлов, строки)|\n",
    "|FindTimes | Поиск папок времени|\n",
    "|fvc Finite volume calculate | базовый класс для операций с полями (интерполяция, производные по времени и пространству) MUST HAVE!!! |\n",
    "|HexRef8 | Работа с делением гексаэдральных сеток|\n",
    "|IOField | Ввод-вывод полей|\n",
    "|List | Работа со списком|\n",
    "|Matrix | Работа с некоторыми видами матриц|\n",
    "|mesh | Работа с сеткой|\n",
    "|MomentOfInertia | Нахождение момента инерции тел|\n",
    "|ObjectRegistry | Работа с регистром объектов |\n",
    "|ODE | Решение обыкновенных дифференциальных уравнений|\n",
    "|openmp | Использование openmp Parallel Пример использования распараллеливания с помощью MPI|\n",
    "|PointField | Работа с полем в узлах|"
   ]
  },
  {
   "cell_type": "markdown",
   "metadata": {},
   "source": [
    "## Заключение <a name=\"finish\"></a>"
   ]
  },
  {
   "cell_type": "markdown",
   "metadata": {},
   "source": [
    "[Курс о CFD, OpenFOAM для задач высокоскоростной газодинамики](#what)\n",
    "\n",
    "[Для любителей численных методов, программирования и аэрогазодинамики](#who)\n",
    "\n",
    "[Ansys vs OpenFOAM, узнали кто наш БРО](#avso)\n",
    "\n",
    "[Немного ближе познакомились с OpenFOAM](#OpenFOAM)\n",
    "\n",
    "[Написали первую программу](#hello)"
   ]
  },
  {
   "cell_type": "markdown",
   "metadata": {},
   "source": [
    "## В следующей серии ..."
   ]
  },
  {
   "cell_type": "markdown",
   "metadata": {},
   "source": [
    "познакомимся c базовыми классами в OpenFOAM, работой на кластере, классом Time!\n",
    "\n",
    "<img src=\"img/cpp_for_ch.jpeg\" width=\"300\">\n",
    "\n",
    "<img src=\"img/time.jpeg\" width=\"600\">"
   ]
  },
  {
   "cell_type": "markdown",
   "metadata": {},
   "source": []
  }
 ],
 "metadata": {
  "kernelspec": {
   "display_name": "Python 3.8.10 64-bit",
   "language": "python",
   "name": "python3"
  },
  "language_info": {
   "codemirror_mode": {
    "name": "ipython",
    "version": 3
   },
   "file_extension": ".py",
   "mimetype": "text/x-python",
   "name": "python",
   "nbconvert_exporter": "python",
   "pygments_lexer": "ipython3",
   "version": "3.10.12"
  },
  "vscode": {
   "interpreter": {
    "hash": "31f2aee4e71d21fbe5cf8b01ff0e069b9275f58929596ceb00d14d90e3e16cd6"
   }
  }
 },
 "nbformat": 4,
 "nbformat_minor": 4
}
