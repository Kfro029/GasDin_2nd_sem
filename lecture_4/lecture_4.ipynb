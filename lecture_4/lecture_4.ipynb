{
 "cells": [
  {
   "cell_type": "markdown",
   "metadata": {},
   "source": [
    "# Лекция №4"
   ]
  },
  {
   "cell_type": "markdown",
   "metadata": {},
   "source": [
    "## На прошлой лекции"
   ]
  },
  {
   "cell_type": "markdown",
   "metadata": {},
   "source": [
    "[Познакомились с полями в OpenFOAM](../lecture_4/lecture_4.ipynb#Fields)\n",
    "\n",
    "[Основы Paraview](../lecture_4/lecture_4.ipynb#Paraview)\n",
    "\n",
    "[Узнали про dynamicRefineFvMesh](../lecture_4/lecture_4.ipynb#dynamicRefineFvMesh)"
   ]
  },
  {
   "cell_type": "markdown",
   "metadata": {},
   "source": [
    "## План\n",
    "1. [Процесс дискретизации](#discr)\n",
    "2. [Метод контрольного объема (Finite Volume Method)](#FVM)\n",
    "3. [Производная по времени](#ddt)\n",
    "4. [Источник](#source)\n",
    "5. [Операторы fvm и fvc в OpenFOAM](#fvof)"
   ]
  },
  {
   "cell_type": "code",
   "execution_count": null,
   "metadata": {},
   "outputs": [],
   "source": [
    "#!cat $WM_PROJECT_DIR/applications/solvers/basic/laplacianFoam/laplacianFoam.C"
   ]
  },
  {
   "cell_type": "markdown",
   "metadata": {},
   "source": [
    "```c++\n",
    "/*---------------------------------------------------------------------------*\\\n",
    "  =========                 |\n",
    "  \\\\      /  F ield         | OpenFOAM: The Open Source CFD Toolbox\n",
    "   \\\\    /   O peration     |\n",
    "    \\\\  /    A nd           | www.openfoam.com\n",
    "     \\\\/     M anipulation  |\n",
    "-------------------------------------------------------------------------------\n",
    "    Copyright (C) 2011-2017 OpenFOAM Foundation\n",
    "    Copyright (C) 2019 OpenCFD Ltd.\n",
    "-------------------------------------------------------------------------------\n",
    "License\n",
    "    This file is part of OpenFOAM.\n",
    "\n",
    "    OpenFOAM is free software: you can redistribute it and/or modify it\n",
    "    under the terms of the GNU General Public License as published by\n",
    "    the Free Software Foundation, either version 3 of the License, or\n",
    "    (at your option) any later version.\n",
    "\n",
    "    OpenFOAM is distributed in the hope that it will be useful, but WITHOUT\n",
    "    ANY WARRANTY; without even the implied warranty of MERCHANTABILITY or\n",
    "    FITNESS FOR A PARTICULAR PURPOSE.  See the GNU General Public License\n",
    "    for more details.\n",
    "\n",
    "    You should have received a copy of the GNU General Public License\n",
    "    along with OpenFOAM.  If not, see <http://www.gnu.org/licenses/>.\n",
    "\n",
    "Application\n",
    "    laplacianFoam\n",
    "\n",
    "Group\n",
    "    grpBasicSolvers\n",
    "\n",
    "Description\n",
    "    Laplace equation solver for a scalar quantity.\n",
    "\n",
    "    \\heading Solver details\n",
    "    The solver is applicable to, e.g. for thermal diffusion in a solid.  The\n",
    "    equation is given by:\n",
    "\n",
    "    \\f[\n",
    "        \\ddt{T}  = \\div \\left( D_T \\grad T \\right)\n",
    "    \\f]\n",
    "\n",
    "    Where:\n",
    "    \\vartable\n",
    "        T     | Scalar field which is solved for, e.g. temperature\n",
    "        D_T   | Diffusion coefficient\n",
    "    \\endvartable\n",
    "\n",
    "    \\heading Required fields\n",
    "    \\plaintable\n",
    "        T     | Scalar field which is solved for, e.g. temperature\n",
    "    \\endplaintable\n",
    "\n",
    "\\*---------------------------------------------------------------------------*/\n",
    "\n",
    "#include \"fvCFD.H\"\n",
    "#include \"fvOptions.H\"\n",
    "#include \"simpleControl.H\"\n",
    "\n",
    "// * * * * * * * * * * * * * * * * * * * * * * * * * * * * * * * * * * * * * //\n",
    "\n",
    "int main(int argc, char *argv[])\n",
    "{\n",
    "    argList::addNote\n",
    "    (\n",
    "        \"Laplace equation solver for a scalar quantity.\"\n",
    "    );\n",
    "\n",
    "    #include \"postProcess.H\"\n",
    "\n",
    "    #include \"addCheckCaseOptions.H\"\n",
    "    #include \"setRootCaseLists.H\"\n",
    "    #include \"createTime.H\"\n",
    "    #include \"createMesh.H\"\n",
    "\n",
    "    simpleControl simple(mesh);\n",
    "\n",
    "    #include \"createFields.H\"\n",
    "\n",
    "    // * * * * * * * * * * * * * * * * * * * * * * * * * * * * * * * * * * * //\n",
    "\n",
    "    Info<< \"\\nCalculating temperature distribution\\n\" << endl;\n",
    "\n",
    "    while (simple.loop())\n",
    "    {\n",
    "        Info<< \"Time = \" << runTime.timeName() << nl << endl;\n",
    "\n",
    "        while (simple.correctNonOrthogonal())\n",
    "        {\n",
    "            fvScalarMatrix TEqn\n",
    "            (\n",
    "                fvm::ddt(T) - fvm::laplacian(DT, T)\n",
    "             ==\n",
    "                fvOptions(T)\n",
    "            );\n",
    "\n",
    "            fvOptions.constrain(TEqn);\n",
    "            TEqn.solve();\n",
    "            fvOptions.correct(T);\n",
    "        }\n",
    "\n",
    "        #include \"write.H\"\n",
    "\n",
    "        runTime.printExecutionTime(Info);\n",
    "    }\n",
    "\n",
    "    Info<< \"End\\n\" << endl;\n",
    "\n",
    "    return 0;\n",
    "}\n",
    "\n",
    "\n",
    "// ************************************************************************* //\n",
    "```"
   ]
  },
  {
   "cell_type": "markdown",
   "metadata": {},
   "source": [
    "## Процесс дискретизации <a name=\"discr\"></a>\n",
    "\n",
    "<img src=\"img/cfd.png\" width=\"500\" >\n",
    "\n",
    "[Дискретизация](../books/darwish.pdf) p.112 (87)\n",
    "\n",
    "<img src=\"img/discr.png\" width=\"500\" >"
   ]
  },
  {
   "cell_type": "markdown",
   "metadata": {},
   "source": [
    "## Метод контрольного объема (Finite Volume Method) <a name=\"FVM\"></a>"
   ]
  },
  {
   "cell_type": "markdown",
   "metadata": {},
   "source": [
    "<img src=\"img/finite_volume.png\" width=\"1000\">"
   ]
  },
  {
   "cell_type": "markdown",
   "metadata": {},
   "source": [
    "Особенности:\n",
    "\n",
    "1. Интегральная форма - хорошо если разрывное решение \n",
    "2. Консервативность - приятное свойство, необходимое в случае разрывных решений\n",
    "3. 2й порядок по пространству (как правило) - мало, но есть способы увеличить порядок\n",
    "\n",
    "Fluent, FlowVision, StarCCM, Numeca ..."
   ]
  },
  {
   "cell_type": "markdown",
   "metadata": {},
   "source": [
    "Литература:\n",
    "\n",
    "[FVM wolfdynamics](../books/wd_fvm.pdf)\n",
    "\n",
    "[Численные методы решения задач теплообмена и динамики жидкости. Патанкар.](../books/patankar.pdf) \n",
    "\n",
    "[Moukalled,Mangani,Darwish The FV Method in CFD. An Advanced Introduction with OpenFOAM and Matlab 2015](../books/darwish.pdf)"
   ]
  },
  {
   "cell_type": "markdown",
   "metadata": {},
   "source": [
    "[Введение в FVM OpenFOAM site](https://www.openfoam.com/documentation/guides/latest/doc/guide-schemes.html)\n",
    "\n",
    "Уравнение переноса в дифференциальной форме:\n",
    "\n",
    "$$\n",
    "\\underbrace{\\partial{\\rho \\phi}\\over {\\partial t}}_{\\mathrm{unsteady}} + \\underbrace{\\nabla \\cdot \\left(\\rho \\phi \\vec{U} \\right)}_{\\mathrm{convection}} = \\underbrace{\\nabla \\cdot \\left(\\Gamma \\nabla \\phi \\right)}_{\\mathrm{diffusion}} + \\underbrace{S_\\phi}_{\\mathrm{source}}\n",
    "$$"
   ]
  },
  {
   "cell_type": "markdown",
   "metadata": {},
   "source": [
    "Уравнение переноса в интегральной форме:\n",
    "\n",
    "$$\n",
    "\\int_V {\\partial{\\rho \\phi}\\over {\\partial t}} dV + \\int_V \\nabla \\cdot \\left(\\rho \\phi \\vec{U} \\right) dV = \\int_V \\nabla \\cdot \\left(\\Gamma \\nabla \\phi \\right) dV + \\int_V S_\\phi dV\n",
    "$$\n",
    "\n",
    "$dV$ - элементарный объем (ячейка сетки - \"стакан\") \n",
    "\n",
    "$\\phi$ - объемное поле (volScalarField) ($\\rho,\\rho U,\\rho E, T$) неизвестной величины\n",
    "\n",
    "$\\vec U$ - объемное поле скорости\n",
    "\n",
    "$\\rho$ - объемное поле плотности\n",
    "\n",
    "$\\Gamma$ - объемное поле коэффициента диффузии\n",
    "\n",
    "$S_\\phi$ - объемное поле источника"
   ]
  },
  {
   "cell_type": "markdown",
   "metadata": {},
   "source": [
    "Существует два подхода: за основу брать центры ячеек (используется чаще), либо узлы сетки (реже)\n",
    "\n",
    "Дальше только про подход, когда основные поля заданы в центрах ячеек (или распределены равномерно по ячейке) "
   ]
  },
  {
   "cell_type": "markdown",
   "metadata": {},
   "source": [
    "<img src=\"img/cell.png\" width=\"300\">\n",
    "\n",
    "<img src=\"img/stakani.png\" width=\"300\">\n"
   ]
  },
  {
   "cell_type": "markdown",
   "metadata": {},
   "source": [
    "[FVM wolfdynamics](../books/wd_fvm.pdf) p.12\n",
    "\n",
    "[ProgrammerGuide](../books/OFpg.pdf) p.25\n",
    "\n",
    "Производная по времени:\n",
    "\n",
    "по теореме о среднем существует такая точка P, что\n",
    "\n",
    "$$\\int_V {\\partial{\\rho \\phi}\\over {\\partial t}} dV \\approx ({\\partial{\\rho \\phi}\\over {\\partial t}})_P V_p$$\n",
    "\n",
    "P - обычно центроид ячейки (что такое центроид см [blazek p. 139](../books/blazek.pdf), в OpenFOAM как расчитывается центр и объем произвольной ячейки см [тут](https://www.openfoam.com/documentation/guides/latest/api/primitiveMeshTools_8C_source.html#l00283) )\n",
    "\n",
    "Отдельный вариант интегрировать по нескольким точкам (точки Гаусса), чтобы повысить точность. Используется редко. Чаще используются значения со старых шагов по времени. \n",
    "\n",
    "Источник:\n",
    "$$\\int_V S_\\phi dV \\approx S_{\\phi P} V_P$$\n",
    "\n",
    "Источник и производная по времени: только объемные поля (volScalarField), нет связи с соседними ячейками\n",
    "\n",
    "Теорема Остроградского-Гаусса:\n",
    "\n",
    "$$\\int_V \\left( \\nabla \\cdot \\vec u \\right) dV = \\oint_S \\left( \\vec{n} \\cdot \\vec u \\right) dS \\approx\n",
    "\\sum\\limits_{face} \\left( \\vec{n} \\cdot \\vec u \\right)_f S_f\n",
    "$$\n",
    "\n",
    "Конвекция:\n",
    "\n",
    "$$\\int_V \\nabla \\cdot \\left(\\rho \\phi \\vec{U} \\right) dV \\approx\n",
    "\\sum\\limits_{face} \\left(\\rho \\phi \\vec{n} \\cdot \\vec U \\right)_f S_f$$\n",
    "\n",
    "Диффузия:\n",
    "\n",
    "$$\\int_V \\nabla \\cdot \\left(\\Gamma \\nabla \\phi \\right) dV \\approx\n",
    "\\sum\\limits_{face} \\left(\\Gamma \\nabla \\phi  \\cdot \\vec{n} \\right)_f S_f$$\n",
    "\n",
    "Конвекция и диффузия: поля на гранях (surfaceScalarField), связь с соседними ячейками"
   ]
  },
  {
   "cell_type": "markdown",
   "metadata": {},
   "source": [
    "[Связть Сетки и СЛАУ](../books/darwish.pdf) p.119 (94)\n",
    "\n",
    "<img src=\"img/mesh_slau.png\" width=\"500\">"
   ]
  },
  {
   "cell_type": "markdown",
   "metadata": {},
   "source": [
    "СЛАУ:\n",
    "\n",
    "[Doxygen fvMatrix](https://www.openfoam.com/documentation/guides/latest/api/classFoam_1_1fvMatrix.html)\n",
    "\n",
    "$$\n",
    "\\begin{bmatrix} a_{11} & a_{12} & \\dots & a_{1m} \\\\ a_{21} & a_{22} & \\dots & a_{2m} \\\\ \\vdots & \\vdots & \\ddots & \\vdots \\\\ a_{m1} & a_{m2} & \\dots & a_{mm} \\end{bmatrix} \\begin{bmatrix} \\phi_{1}^{n+1} \\\\ \\phi_{2}^{n+1} \\\\ \\vdots \\\\ \\phi_{m}^{n+1} \\end{bmatrix} = \\begin{bmatrix} b_{1} \\\\ b_{2} \\\\ \\vdots \\\\ b_{m} \\end{bmatrix}\n",
    "$$\n",
    "\n",
    "$n$ - индекс по времени\n",
    "\n",
    "$m$ - номер ячейки"
   ]
  },
  {
   "cell_type": "markdown",
   "metadata": {},
   "source": [
    "$$\n",
    "A \\vec{\\phi} = \\vec{b}\n",
    "$$\n",
    "$A$ - коэффициенты матрицы\n",
    "\n",
    "Очень важно! Есть только НЕИЗВЕСТНЫЕ поля на n+1 шаге по времени и ИЗВЕСТНЫЕ поля с предведущих шагов по времени n,n-1,n-2 ...\n",
    "\n",
    "$\\vec{\\phi}^{n+1}$ - неизвестное объемное поле величины\n",
    "\n",
    "$\\vec{b}(\\phi^{n, n-1 ...}) $ - правая часть (объемное поле)"
   ]
  },
  {
   "cell_type": "markdown",
   "metadata": {},
   "source": [
    "## Производная по времени <a name=\"ddt\"></a>"
   ]
  },
  {
   "cell_type": "markdown",
   "metadata": {},
   "source": [
    "Сегодня просто, рассматриваем одну ячейку\n",
    "\n",
    "<img src=\"img/stakan.png\" width=\"300\">"
   ]
  },
  {
   "cell_type": "markdown",
   "metadata": {},
   "source": [
    "$$\\int_V {\\partial{\\rho \\phi}\\over {\\partial t}} dV \\approx ({\\partial{\\rho \\phi}\\over {\\partial t}})_P V_p$$\n",
    "\n",
    "[Blazek](../books/blazek.pdf) p. 176 (167)\n",
    "\n",
    "Стандартный подход (упрощение) расщепление аля дифференциальное уравнение - производная по времени + оператор в правой части (невязка)\n",
    "\n",
    "Явные и неявные схемы, универсальная форма записи схемы 2-го порядка для стационарной сетки:\n",
    "\n",
    "$$\\frac{V_P}{\\Delta t_P}\\Delta \\phi_P^n=\\frac{-\\beta }{1+\\omega }\\vec R_P^{n+1}-\\frac{1-\\beta }{1+\\omega }R_P^n+\\frac{\\omega}{1+\\omega }\\frac{V_P}{\\Delta t_P}\\Delta \\phi_P^{n-1}$$\n",
    "\n",
    "$$\\Delta \\phi_P^n=\\phi_P^{n+1}-\\phi_P^n$$\n",
    "\n",
    "$\\beta , \\omega $- параметры, контролирующие точность (порядок) и «неявность» схемы."
   ]
  },
  {
   "cell_type": "markdown",
   "metadata": {},
   "source": [
    "### Явные схемы"
   ]
  },
  {
   "cell_type": "markdown",
   "metadata": {},
   "source": [
    "Все значения зависят только от текущего временного шага, просты в реализации.  $\\beta =0,\\omega =0$ \n",
    "$$\\frac{V_P}{\\Delta t_P}\\Delta \\phi_P^n=\\frac{-\\beta }{1+\\omega }\\vec R_P^{n+1}-\\frac{1-\\beta }{1+\\omega }R_P^n+\\frac{\\omega}{1+\\omega }\\frac{V_P}{\\Delta t_P}\\Delta \\phi_P^{n-1}$$\n",
    "$$\\Delta \\phi_P^n=-R_P^n \\frac{\\Delta t_P}{V_P}$$"
   ]
  },
  {
   "cell_type": "markdown",
   "metadata": {},
   "source": [
    "[ProgrammerGuide](../books/OFpg.pdf) p.37\n",
    "\n",
    "Самая простая схема Эйлера (Euler) 1-го порядка:\n",
    "$$ \\frac{\\partial \\phi}{\\partial t}=\\frac{\\phi^{n+1}-\\phi^n}{\\Delta t} $$\n",
    "\n",
    "Противопотоковая схема Эйлера (backward) 2-го порядка:\n",
    "$$\\frac{\\partial \\phi}{\\partial t}=\\frac{3\\phi^{n+1}-4\\phi^n+\\phi^{n-1}}{2\\Delta t}$$\n",
    "\n",
    "Схема Кранка-Николсона (CrankNicolson) 2-го порядка точности:\n",
    "$$ \\frac{\\partial \\phi}{\\partial t}=\\frac{\\phi^{n+1}-\\phi^{n-1}}{2\\Delta t} $$\n",
    "\n",
    "Очень популярны явные многошаговые методы Рунге-Кутты и гибридные многошаговые методы."
   ]
  },
  {
   "cell_type": "markdown",
   "metadata": {},
   "source": [
    "### Многошаговые методы Рунге-Кутты"
   ]
  },
  {
   "cell_type": "markdown",
   "metadata": {},
   "source": [
    "$$\\phi_P^{(0)}=\\phi_P^n,\\\\\\phi_P^{(1)}=\\phi_P^{(0)}-\\alpha _1\\frac{\\Delta\n",
    "t_P}{V_P}R_P^{(0)},\\\\\\phi_P^{(2)}=\\phi_P^{(0)}-\\alpha _2\\frac{\\Delta t_P}{V_P}R_P^{(1)},\\\\\\vdots\n",
    "\\\\\\phi_P^{n+1}=\\phi_P^{(m)}=\\phi_P^{(0)}-\\alpha _m\\frac{\\Delta t_P}{V_P}R_P^{(m-1)},\\\\{}$$\n",
    "\n",
    "$\\alpha _1\\cdots \\alpha _m$- некоторые коэффициенты.\n",
    "\n",
    "Требуют минимум затрат памяти (не нужно хранить данные с прошлого шага). Увеличивают максимальный шаг по\n",
    "времени, стабильность схемы.\n",
    "\n",
    "Требуется  $\\alpha _m=1$ , для второго порядка  $\\alpha _{m-1}=1/2$ . Пригодны для противопотоковых схем на\n",
    "структурированных и неструктурированных сетках. Для схем с центральной разность больше используются гибридные\n",
    "многошаговые методы. На ударной волне предпочтительно использовать схему 1 порядка, иначе — осцилляции.\n",
    "\n",
    "Недостаток — шаг по времени зависит от характеристик уравнения и геометрии сетки. Существует предельное число\n",
    "Куранта, которое ограничивает стабильность схемы.\n",
    "\n",
    "<img src=\"img/rkexp.png\" width=\"500\">"
   ]
  },
  {
   "cell_type": "markdown",
   "metadata": {},
   "source": [
    "### Неявные схемы"
   ]
  },
  {
   "cell_type": "markdown",
   "metadata": {},
   "source": [
    "[Blazek](../books/blazek.pdf) p. 176 (167)\n",
    "\n",
    "Подробно в диффузии и конвекции"
   ]
  },
  {
   "cell_type": "markdown",
   "metadata": {},
   "source": [
    "## Источник <a name=\"source\"></a>"
   ]
  },
  {
   "cell_type": "markdown",
   "metadata": {},
   "source": [
    "Мана небесная, изнеоткуда льется в ячейку (стакан). \n",
    "\n",
    "Чаще всего никак не связано с соседними ячейками. \n",
    "\n",
    "Исключение - интегро-дифференциальные уравнения (излучение)\n",
    "\n",
    "<img src=\"img/source_beer.jpg\" width=\"300\"> "
   ]
  },
  {
   "cell_type": "markdown",
   "metadata": {},
   "source": [
    "Немного в сторону. Вспомним уравнение переноса в дифференциальной форме:\n",
    "\n",
    "$$\n",
    "\\underbrace{\\partial{\\rho \\phi}\\over {\\partial t}}_{\\mathrm{unsteady}} + \\underbrace{\\nabla \\cdot \\left(\\rho \\phi \\vec{U} \\right)}_{\\mathrm{convection}} = \\underbrace{\\nabla \\cdot \\left(\\Gamma \\nabla \\phi \\right)}_{\\mathrm{diffusion}} + \\underbrace{S_\\phi}_{\\mathrm{source}}\n",
    "$$\n",
    "\n",
    "Обратим внимание на то, что все члены по размерности пропорциональны $\\underbrace{\\partial{\\rho \\phi}\\over {\\partial t}}_{\\mathrm{unsteady}}$ то есть по смыслу означают изменение по времени величины $\\phi$ в ячейке\n",
    "\n",
    "Важно, у каждого явления (конвекция, диффузия, источник) есть свой характерный масштаб по времени!\n",
    "\n",
    "Смысл имеют только безразмерные отношения между слагаемыми уравнения! Показывают какие явления преобладают в данной точке пространства!"
   ]
  },
  {
   "cell_type": "markdown",
   "metadata": {},
   "source": [
    "$$\\int_V S_\\phi dV \\approx S_{\\phi P} V_P = S_{\\phi PConst} V_P + S_{\\phi P}(\\phi) V_P $$\n",
    "\n",
    "где $ S_\\phi = f(\\phi) $ - некоторая функция от $ \\phi $\n",
    "\n",
    "Случается, что в течениях с химическими реакциями и турбулентностью, источниковый член  $S$- много больше\n",
    "остальных. Время изменения источникового члена много меньше характерного времени течения  $\\frac{\\Delta\n",
    "t_{\\mathit{flow}}}{\\Delta t_{\\mathit{source}}}\\rightarrow \\infty $.\n",
    "\n",
    "Увеличивается жесткость системы — отношение максимального к минимальному значений собственных векторов \n",
    "$\\frac{\\lambda _{\\mathit{max}}}{\\lambda _{\\mathit{min}}}$ или отношение максимального к минимальному характерных\n",
    "масштабов времени.\n",
    "\n",
    "+ дополнительно на жесткость влияет дискритизация по пространству (отношение размеров ячеек в сетке), про это позже\n",
    "\n",
    "Использование многошаговых явных схем к жестким системам — смягчает условие на шаг по времени, однако установление\n",
    "происходит медленнее. Некоторые решения не дают корректного результата. Предложен неявный путь аппроксимации\n",
    "источниковых членов."
   ]
  },
  {
   "cell_type": "markdown",
   "metadata": {},
   "source": [
    "$$S^{n+1}\\approx S^n+{\\frac{\\partial S}{\\partial T}}^n(T^{n+1}-T^n)$$\n",
    "\n",
    "«Точечно неявная аппроксимация» — зависит только от значения в центре контрольного объема.\n",
    "\n",
    "Более продуманным решением является использование неявных схем Рунге-Кутты (Розенброка) — более стабильные, но\n",
    "требуют затраты на обращение матриц."
   ]
  },
  {
   "cell_type": "markdown",
   "metadata": {},
   "source": [
    "## Операторы fvm и fvc в OpenFOAM <a name=\"fvof\"></a>\n"
   ]
  },
  {
   "cell_type": "markdown",
   "metadata": {},
   "source": [
    "[ProgrammerGuide](../books/OFpg.pdf) p.35\n",
    "\n",
    "[FiniteVolume OF Doxygen](https://www.openfoam.com/documentation/guides/latest/api/namespaceFoam_1_1fv.html)\n",
    "\n",
    "В OpenFOAM существуют стандартные операторы производных: $\\frac{\\partial }{\\partial t},\\frac{\\partial ^2}{\\partial\n",
    "t^2},(\\nabla \\cdot \\ ),\\nabla $, которые возвращают коэффициенты СЛАУ вида:  $A\\vec x^{n+1}=\\vec b(\\vec x^n)$, где \n",
    "$\\vec x^{n+1}$ - поле искомой переменной (например  $T$ ) на новом слое по времени ,  $\\vec b(\\vec x^n)$ - правая часть\n",
    "СЛАУ (входят все величины, зависящие от предшествующих шагов по времени:  $n,n-1...$)\n",
    "\n",
    "fvm — неявная аппроксимация (возвращает коэффициенты системы линейных уравнений  $A$ и $\\vec b$).\n",
    "\n",
    "fvc — явная аппроксимация (возвращается вектор правой части СЛАУ -  $\\vec b$).\n",
    "\n",
    "Пример кода, использования операторов производной по времени и источникового члена:"
   ]
  },
  {
   "cell_type": "markdown",
   "metadata": {},
   "source": [
    "$$\\frac{\\partial T}{\\partial t} V_P +S_{P}(T) T V_P = 0 $$\n",
    "\n",
    "```c++\n",
    "while(runTime.run()) // цикл по времени (заканчивается по критерию остановки\n",
    "{\n",
    "runTime++; // переход к следующей итерации по времени \n",
    "    \n",
    "//TEqn — СЛАУ для поля  T (volScalarField)\n",
    "\n",
    "//fvm::ddt(T) — аппроксимация производной по времени\n",
    "\n",
    "//fvm::Sp(S, T) — аппроксимация источника, S - объемное поле volScalarField\n",
    "\n",
    "fvScalarMatrix TEqn ( fvm::ddt(T) + fvm::Sp(S, T) ); //- инициализация СЛАУ\n",
    "\n",
    "TEqn.solve();// - решение СЛАУ (результат записывается в T!!!)\n",
    "\n",
    "runTime.write(); // запись всех полей из регистра\n",
    "}\n",
    "```"
   ]
  },
  {
   "cell_type": "markdown",
   "metadata": {},
   "source": [
    "<img src=\"img/mesh_slau.png\" width=\"500\">\n",
    "\n",
    "Эйлер 1й порядок: \n",
    "$$ \\frac{\\partial T}{\\partial t} V_P=\\frac{T^{n+1}-T^n}{\\Delta t} V_P $$\n",
    "\n",
    "fvm::ddt(T) - возвращает матрицу А (коэффициенты на диагонали) : $\\frac{V_P}{\\Delta t}$ + b : $\\frac{V_P}{\\Delta t} T^n$\n",
    "        \n",
    "$$S_{P}(T) T V_P $$\n",
    "\n",
    "fvm::Sp(S, T) - возвращает A (коэффициенты на диагонали) : $S V_P $\n",
    "\n",
    "* fvm::Su(S, T) - возвращает b\n",
    "* fvm::SuSp(S, T) - возвращает A и b (в зависимости от знака S в конкретной ячейке)"
   ]
  },
  {
   "cell_type": "markdown",
   "metadata": {},
   "source": [
    "Все схемы для аппроксимации производных задаются в файле system/fvSchemes\n",
    "```c++\n",
    "ddtSchemes\n",
    "{\n",
    "default Euler; // backward;\n",
    "}\n",
    "```"
   ]
  },
  {
   "cell_type": "markdown",
   "metadata": {},
   "source": [
    "Метод решения СЛАУ задается в файле system/fvSolution\n",
    "```c++\n",
    "solvers\n",
    "{\n",
    "    T\n",
    "    {\n",
    "    solver diagonal; // PCG\n",
    "    }\n",
    "}\n",
    "```"
   ]
  },
  {
   "cell_type": "markdown",
   "metadata": {},
   "source": [
    "[OF Doxygen ddt](https://www.openfoam.com/documentation/guides/latest/doc/guide-schemes-time.html)"
   ]
  },
  {
   "cell_type": "code",
   "execution_count": null,
   "metadata": {},
   "outputs": [],
   "source": [
    "!ls $WM_PROJECT_DIR/src"
   ]
  },
  {
   "cell_type": "code",
   "execution_count": null,
   "metadata": {},
   "outputs": [],
   "source": [
    "!ls $WM_PROJECT_DIR/src/finiteVolume"
   ]
  },
  {
   "cell_type": "code",
   "execution_count": null,
   "metadata": {},
   "outputs": [],
   "source": [
    "!ls $WM_PROJECT_DIR/src/finiteVolume/finiteVolume"
   ]
  },
  {
   "cell_type": "code",
   "execution_count": null,
   "metadata": {},
   "outputs": [],
   "source": [
    "!ls $WM_PROJECT_DIR/src/finiteVolume/finiteVolume/fvc"
   ]
  },
  {
   "cell_type": "code",
   "execution_count": null,
   "metadata": {},
   "outputs": [],
   "source": [
    "!ls $WM_PROJECT_DIR/src/finiteVolume/finiteVolume/fvm"
   ]
  },
  {
   "cell_type": "code",
   "execution_count": null,
   "metadata": {},
   "outputs": [],
   "source": [
    "!cat $WM_PROJECT_DIR/src/finiteVolume/finiteVolume/fvc/fvcSup.C"
   ]
  },
  {
   "cell_type": "code",
   "execution_count": null,
   "metadata": {},
   "outputs": [],
   "source": [
    "!cat $WM_PROJECT_DIR/src/finiteVolume/finiteVolume/fvm/fvmSup.C"
   ]
  },
  {
   "cell_type": "code",
   "execution_count": null,
   "metadata": {},
   "outputs": [],
   "source": [
    "!ls $WM_PROJECT_DIR/src/finiteVolume/finiteVolume/ddtSchemes"
   ]
  },
  {
   "cell_type": "code",
   "execution_count": null,
   "metadata": {},
   "outputs": [],
   "source": [
    "!cat $WM_PROJECT_DIR/src/finiteVolume/finiteVolume/ddtSchemes/EulerDdtScheme/EulerDdtScheme.C"
   ]
  },
  {
   "cell_type": "markdown",
   "metadata": {},
   "source": [
    "Рунге-Кутты в OpenFOAM:\n",
    "* [dbnsFoam](https://github.com/Unofficial-Extend-Project-Mirror/foam-extend-foam-extend-3.2/blob/master/applications/solvers/compressible/dbnsFoam/dbnsFoam.C)\n",
    "* [explicitRhoFoam](https://github.com/OpenQBMM/OpenQBMM/tree/master/applications/solvers/compressible/explicitRhoFoam)\n",
    "* [ode OpenFOAM](https://www.openfoam.com/documentation/guides/latest/api/classFoam_1_1ode.html) - источниковые слагаемые при учете химических реакций"
   ]
  },
  {
   "cell_type": "markdown",
   "metadata": {},
   "source": [
    "## OpenFOAM example <a name=\"OFrelax\"></a>"
   ]
  },
  {
   "cell_type": "markdown",
   "metadata": {},
   "source": [
    "Задача Коши для уравнения релаксации:\n",
    "$$ \\frac{\\partial T}{\\partial t} =\\frac{T_e - T}{\\tau}$$\n",
    "\n",
    "$$ T(t=0) = T_0$$\n",
    "\n",
    "Решение:\n",
    "\n",
    "$$T = T_e+(T_0-T_e)e^{-t/\\tau}$$"
   ]
  },
  {
   "cell_type": "code",
   "execution_count": null,
   "metadata": {},
   "outputs": [],
   "source": [
    "import numpy as np\n",
    "import matplotlib.pyplot as plt\n",
    "import math\n",
    "T_e = 0\n",
    "T_0 = 1\n",
    "tau = 1\n",
    "t = np.linspace(start=0, stop=5, num=100)\n",
    "T = T_e+(T_0 - T_e)*math.e**(-t/tau)\n",
    "plt.plot(t, T)\n",
    "plt.show()"
   ]
  },
  {
   "cell_type": "code",
   "execution_count": null,
   "metadata": {},
   "outputs": [],
   "source": [
    "T = T_e+(T_0 - T_e)*math.e**(t/tau)\n",
    "plt.plot(t, T)\n",
    "plt.show()"
   ]
  },
  {
   "cell_type": "code",
   "execution_count": null,
   "metadata": {},
   "outputs": [],
   "source": [
    "#!cat relax_eq/relax_eq.C"
   ]
  },
  {
   "cell_type": "markdown",
   "metadata": {},
   "source": [
    "```c++\n",
    "/*---------------------------------------------------------------------------*\\\n",
    "  =========                 |\n",
    "  \\\\      /  F ield         | OpenFOAM: The Open Source CFD Toolbox\n",
    "   \\\\    /   O peration     |\n",
    "    \\\\  /    A nd           | Copyright (C) 2011-2016 OpenFOAM Foundation\n",
    "     \\\\/     M anipulation  |\n",
    "-------------------------------------------------------------------------------\n",
    "License\n",
    "    This file is part of OpenFOAM.\n",
    "\n",
    "    OpenFOAM is free software: you can redistribute it and/or modify it\n",
    "    under the terms of the GNU General Public License as published by\n",
    "    the Free Software Foundation, either version 3 of the License, or\n",
    "    (at your option) any later version.\n",
    "\n",
    "    OpenFOAM is distributed in the hope that it will be useful, but WITHOUT\n",
    "    ANY WARRANTY; without even the implied warranty of MERCHANTABILITY or\n",
    "    FITNESS FOR A PARTICULAR PURPOSE.  See the GNU General Public License\n",
    "    for more details.\n",
    "\n",
    "    You should have received a copy of the GNU General Public License\n",
    "    along with OpenFOAM.  If not, see <http://www.gnu.org/licenses/>.\n",
    "\n",
    "Application\n",
    "    relax equation\n",
    "\n",
    "\n",
    "\\*---------------------------------------------------------------------------*/\n",
    "\n",
    "#include \"fvCFD.H\"\n",
    "#include \"IFstream.H\"\n",
    "#include \"OFstream.H\"\n",
    "#include \"IOmanip.H\"\n",
    "// * * * * * * * * * * * * * * * * * * * * * * * * * * * * * * * * * * * * * //\n",
    "\n",
    "int main(int argc, char *argv[])\n",
    "{\n",
    "  argList::addOption\n",
    "    (\n",
    "        \"T_0\",\n",
    "\t\"scalar\",\n",
    "        \"initial temperature\"\n",
    "    );\n",
    "  argList::addOption\n",
    "    (\n",
    "        \"T_e\",\n",
    "\t\"scalar\",\n",
    "        \"equilibrium temperature\"\n",
    "    );\n",
    "  argList::addOption\n",
    "    (\n",
    "        \"tau\",\n",
    "\t\"scalar\",\n",
    "        \"relax time\"\n",
    "    );\n",
    "  argList::addOption\n",
    "    (\n",
    "        \"theta\",\n",
    "\t\"scalar\",\n",
    "        \"implicit/explicit coeff RHS [0 - 1] 1 - full implicit, 0 - full explicit\"\n",
    "    );\n",
    "  \n",
    "#include \"setRootCase.H\"\n",
    "#include \"createTime.H\"\n",
    "#include \"createMesh.H\"\n",
    "\n",
    "   scalar T_0 = 1.0;\n",
    "   scalar T_e = 0.0;\n",
    "   scalar tau = 1.0;\n",
    "   scalar theta = 0.5;\n",
    "\n",
    " if (args.readIfPresent(\"T_0\", T_0))\n",
    "    {\n",
    "       Info << \"T_0 = \" << T_0 << endl;\n",
    "    }\n",
    " if (args.readIfPresent(\"T_e\", T_e))\n",
    "    {\n",
    "       Info << \"T_e = \" << T_e << endl;\n",
    "    }\n",
    " if (args.readIfPresent(\"tau\", tau))\n",
    "    {\n",
    "       Info << \"tau \" << tau << endl;\n",
    "    }\n",
    " if (args.readIfPresent(\"theta\", theta))\n",
    "    {\n",
    "       Info << \"theta \" << theta << endl;\n",
    "    }\n",
    " \n",
    " volScalarField T                         // vol - поле в ячейках Scalar - скалярное\n",
    "    (\n",
    "     IOobject\n",
    "     (\n",
    "      \"T\",                                // название объекта в регистре\n",
    "      runTime.timeName(),                    // время\n",
    "      mesh,                                  // регистр объектов\n",
    "      IOobject::NO_READ,                     // опция чтения\n",
    "      IOobject::AUTO_WRITE                   // опция записи\n",
    "      ),\n",
    "     mesh,                                   // сетка \n",
    "     dimensionedScalar(\"T\", dimTemperature, T_0) // начальное размерное значение\n",
    "     );\n",
    "\n",
    " volScalarField T_0_v                         // vol - поле в ячейках Scalar - скалярное\n",
    "    (\n",
    "     IOobject\n",
    "     (\n",
    "      \"T_0_v\",                                // название объекта в регистре\n",
    "      runTime.timeName(),                    // время\n",
    "      mesh,                                  // регистр объектов\n",
    "      IOobject::NO_READ,                     // опция чтения\n",
    "      IOobject::AUTO_WRITE                   // опция записи\n",
    "      ),\n",
    "     mesh,                                   // сетка \n",
    "     dimensionedScalar(\"T_0\", dimTemperature, T_0) // начальное размерное значение\n",
    "     );\n",
    " \n",
    " volScalarField T_theory                         // vol - поле в ячейках Scalar - скалярное\n",
    "    (\n",
    "     IOobject\n",
    "     (\n",
    "      \"T_theory\",                                // название объекта в регистре\n",
    "      runTime.timeName(),                    // время\n",
    "      mesh,                                  // регистр объектов\n",
    "      IOobject::NO_READ,                     // опция чтения\n",
    "      IOobject::AUTO_WRITE                   // опция записи\n",
    "      ),\n",
    "     mesh,                                   // сетка \n",
    "     dimensionedScalar(\"T_theory\", dimTemperature, T_0) // начальное размерное значение\n",
    "     );\n",
    "\n",
    " volScalarField rTau                         // vol - поле в ячейках Scalar - скалярное\n",
    "    (\n",
    "     IOobject\n",
    "     (\n",
    "      \"rTau\",                                // название объекта в регистре\n",
    "      runTime.timeName(),                    // время\n",
    "      mesh,                                  // регистр объектов\n",
    "      IOobject::NO_READ,                     // опция чтения\n",
    "      IOobject::AUTO_WRITE                   // опция записи\n",
    "      ),\n",
    "     mesh,                                   // сетка \n",
    "     dimensionedScalar(\"rTau\", dimless/dimTime, 1.0/tau) // начальное размерное значение\n",
    "     );\n",
    "\n",
    " volScalarField T_e_v                         // vol - поле в ячейках Scalar - скалярное\n",
    "    (\n",
    "     IOobject\n",
    "     (\n",
    "      \"T_e\",                                // название объекта в регистре\n",
    "      runTime.timeName(),                    // время\n",
    "      mesh,                                  // регистр объектов\n",
    "      IOobject::NO_READ,                     // опция чтения\n",
    "      IOobject::AUTO_WRITE                   // опция записи\n",
    "      ),\n",
    "     mesh,                                   // сетка \n",
    "     dimensionedScalar(\"T_e\", dimTemperature, T_e) // начальное размерное значение\n",
    "     );\n",
    " \n",
    "  while(runTime.loop()) // цикл по времени\n",
    "    {\n",
    "      Info<< \"Time = \" << runTime.timeName() << nl << endl;\n",
    "      T_theory = T_e_v+(T_0_v - T_e_v)*Foam::exp(-runTime.value()/tau);\n",
    "      fvScalarMatrix TEqn\n",
    "\t(\n",
    "\t fvm::ddt(T) // unsteady\n",
    "\t ==\n",
    "\t fvc::Su(rTau*T_e_v, T) // constant source\n",
    "\t \n",
    "\t -fvm::Sp(rTau*theta, T) // implicit source\n",
    "\t -fvc::Sp(rTau*(1.0 - theta), T) // explicit source\n",
    "\t // - -fvm::SuSp(rTau, T) // sign exp/imp source\n",
    "\t \n",
    "\t );\n",
    "      // first step only\n",
    "      if(runTime.value() == runTime.deltaTValue())\n",
    "\t{\n",
    "\t  // A*psi = source\n",
    "     // psi - это T в нашем случае, неизвестное поле величины\n",
    "     \n",
    "\t  Info << \"TEqn.A(): \" << TEqn.A() << endl;\n",
    "\t  Info << \"TEqn.source(): \" << TEqn.source() << endl;\n",
    "\t  Info << \"TEqn.psi(): \" << TEqn.psi() << endl;\n",
    "\t  Info << \"TEqn.D(): \" << TEqn.D() << endl;\n",
    "\t\n",
    "\t  Info << \"TEqn.solverDict(): \" << TEqn.solverDict() << endl;\n",
    "\t}\n",
    "      TEqn.solve();\n",
    "      if(runTime.value() == runTime.deltaTValue())\n",
    "\t{\n",
    "\t  Info << \"TEqn.psi(): \" << TEqn.psi() << endl;\n",
    "\t}\n",
    "\n",
    "      runTime.write();\n",
    "    }\n",
    "    return 0;\n",
    "}\n",
    "```\n"
   ]
  },
  {
   "cell_type": "code",
   "execution_count": null,
   "metadata": {},
   "outputs": [],
   "source": [
    "!ls relax_eq/test"
   ]
  },
  {
   "cell_type": "code",
   "execution_count": null,
   "metadata": {
    "scrolled": true
   },
   "outputs": [],
   "source": [
    "!cat relax_eq/test/system/blockMeshDict"
   ]
  },
  {
   "cell_type": "code",
   "execution_count": null,
   "metadata": {
    "scrolled": true
   },
   "outputs": [],
   "source": [
    "!cat relax_eq/test/system/fvSchemes"
   ]
  },
  {
   "cell_type": "code",
   "execution_count": null,
   "metadata": {
    "scrolled": true
   },
   "outputs": [],
   "source": [
    "!cat relax_eq/test/system/fvSolution"
   ]
  },
  {
   "cell_type": "code",
   "execution_count": null,
   "metadata": {
    "scrolled": true
   },
   "outputs": [],
   "source": [
    "!cat relax_eq/test/system/controlDict"
   ]
  },
  {
   "cell_type": "code",
   "execution_count": null,
   "metadata": {},
   "outputs": [],
   "source": [
    "!wclean relax_eq/\n",
    "!wmake relax_eq/"
   ]
  },
  {
   "cell_type": "code",
   "execution_count": null,
   "metadata": {},
   "outputs": [],
   "source": [
    "!relax_eq -case relax_eq/test/"
   ]
  },
  {
   "cell_type": "markdown",
   "metadata": {},
   "source": [
    "Результаты:\n",
    "\n",
    "<table><tr>\n",
    "<td> <img src=\"relax_eq/test/0.5_0.png\" width=\"500\" > </td>\n",
    "<td> <img src=\"relax_eq/test/0.5_0.5.png\" width=\"500\" > </td>\n",
    "<td> <img src=\"relax_eq/test/0.5_1.png\" width=\"500\" > </td>\n",
    "</tr></table>\n",
    "\n",
    "<table><tr>\n",
    "<td> <img src=\"relax_eq/test/1.5_0.png\" width=\"500\" > </td>\n",
    "<td> <img src=\"relax_eq/test/1.5_0.5.png\" width=\"500\" > </td>\n",
    "<td> <img src=\"relax_eq/test/1.5_1.png\" width=\"500\" > </td>\n",
    "</tr></table>"
   ]
  },
  {
   "cell_type": "markdown",
   "metadata": {},
   "source": [
    "## Заключение <a name=\"finish\"></a>"
   ]
  },
  {
   "cell_type": "markdown",
   "metadata": {},
   "source": [
    "1. [Процесс дискретизации](#discr)\n",
    "2. [Метод контрольного объема (Finite Volume Method)](#FVM)\n",
    "3. [Производная по времени](#ddt)\n",
    "4. [Источник](#source)\n",
    "5. [Операторы fvm и fvc в OpenFOAM](#fvof)"
   ]
  },
  {
   "cell_type": "markdown",
   "metadata": {},
   "source": [
    "## В следующей серии ..."
   ]
  },
  {
   "cell_type": "markdown",
   "metadata": {},
   "source": [
    "Диффузия, Лаплассиан!\n",
    "\n",
    "<table><tr>\n",
    "<td> <img src=\"img/diff.jpg\" width=\"500\" > </td>\n",
    "<td> <img src=\"img/lap.jpg\" width=\"400\" > </td>\n",
    "</tr></table>\n"
   ]
  }
 ],
 "metadata": {
  "kernelspec": {
   "display_name": "Python 3",
   "language": "python",
   "name": "python3"
  },
  "language_info": {
   "codemirror_mode": {
    "name": "ipython",
    "version": 3
   },
   "file_extension": ".py",
   "mimetype": "text/x-python",
   "name": "python",
   "nbconvert_exporter": "python",
   "pygments_lexer": "ipython3",
   "version": "3.10.12"
  }
 },
 "nbformat": 4,
 "nbformat_minor": 4
}
